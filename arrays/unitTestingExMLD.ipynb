{
 "cells": [
  {
   "cell_type": "code",
   "execution_count": 51,
   "id": "0ea91b78-21ca-4e16-9cd4-bed9dc9b8a49",
   "metadata": {},
   "outputs": [],
   "source": [
    "from pathlib import Path\n",
    "\n",
    "import pandas as pd\n",
    "import numpy as np\n",
    "\n",
    "import altair as alt\n",
    "from altair_saver import save\n",
    "\n",
    "from IPython.display import Markdown, display\n"
   ]
  },
  {
   "cell_type": "code",
   "execution_count": 7,
   "id": "5f3d98a6-231a-406d-b016-e0ce553aecba",
   "metadata": {},
   "outputs": [],
   "source": [
    "dataPath = Path(\"../data/raw/\")\n",
    "interimDataPath = Path(\"../data/interim/\")\n",
    "\n",
    "def loadData():\n",
    "    df = pd.read_csv(dataPath / \"atlanticInterpolated.csv\")\n",
    "    z = df.z.values\n",
    "    dropColumns = []\n",
    "    for col in df.columns:\n",
    "        if df.loc[30, col] > df.loc[0, col] - 0.1:\n",
    "            dropColumns.append(col)\n",
    "    df = df.drop(columns=dropColumns)\n",
    "    # df = pd.concat([df for _ in range(100)], axis=1)\n",
    "    temps = df.iloc[:, 1:].values\n",
    "    surfaceTemps = temps[:2, :].mean(axis=0)\n",
    "    return df, temps, z, surfaceTemps,"
   ]
  },
  {
   "cell_type": "code",
   "execution_count": 8,
   "id": "0a404578-dad4-4a49-80d5-547c7001875a",
   "metadata": {},
   "outputs": [
    {
     "name": "stdout",
     "output_type": "stream",
     "text": [
      "Load data\n",
      "Data loaded\n"
     ]
    }
   ],
   "source": [
    "print(\"Load data\")\n",
    "df, temps, z, surfaceTemps = loadData()\n",
    "print(\"Data loaded\")"
   ]
  },
  {
   "cell_type": "code",
   "execution_count": 9,
   "id": "9c2fa603-3b25-4425-9778-26ccc0bef9fd",
   "metadata": {},
   "outputs": [],
   "source": [
    "thresholdTemperatureDifference = 0.1"
   ]
  },
  {
   "cell_type": "code",
   "execution_count": 41,
   "id": "67841d34-2b7d-4e44-a099-7f3fc7a88007",
   "metadata": {},
   "outputs": [
    {
     "data": {
      "text/html": [
       "<div>\n",
       "<style scoped>\n",
       "    .dataframe tbody tr th:only-of-type {\n",
       "        vertical-align: middle;\n",
       "    }\n",
       "\n",
       "    .dataframe tbody tr th {\n",
       "        vertical-align: top;\n",
       "    }\n",
       "\n",
       "    .dataframe thead th {\n",
       "        text-align: right;\n",
       "    }\n",
       "</style>\n",
       "<table border=\"1\" class=\"dataframe\">\n",
       "  <thead>\n",
       "    <tr style=\"text-align: right;\">\n",
       "      <th></th>\n",
       "      <th>z</th>\n",
       "      <th>profile</th>\n",
       "      <th>Temperature</th>\n",
       "    </tr>\n",
       "  </thead>\n",
       "  <tbody>\n",
       "    <tr>\n",
       "      <th>0</th>\n",
       "      <td>-3.0</td>\n",
       "      <td>2494:May:2010</td>\n",
       "      <td>11.69600</td>\n",
       "    </tr>\n",
       "    <tr>\n",
       "      <th>1</th>\n",
       "      <td>-6.0</td>\n",
       "      <td>2494:May:2010</td>\n",
       "      <td>11.69726</td>\n",
       "    </tr>\n",
       "    <tr>\n",
       "      <th>2</th>\n",
       "      <td>-9.0</td>\n",
       "      <td>2494:May:2010</td>\n",
       "      <td>11.69900</td>\n",
       "    </tr>\n",
       "    <tr>\n",
       "      <th>3</th>\n",
       "      <td>-12.0</td>\n",
       "      <td>2494:May:2010</td>\n",
       "      <td>11.69900</td>\n",
       "    </tr>\n",
       "    <tr>\n",
       "      <th>4</th>\n",
       "      <td>-15.0</td>\n",
       "      <td>2494:May:2010</td>\n",
       "      <td>11.69900</td>\n",
       "    </tr>\n",
       "  </tbody>\n",
       "</table>\n",
       "</div>"
      ],
      "text/plain": [
       "      z        profile  Temperature\n",
       "0  -3.0  2494:May:2010     11.69600\n",
       "1  -6.0  2494:May:2010     11.69726\n",
       "2  -9.0  2494:May:2010     11.69900\n",
       "3 -12.0  2494:May:2010     11.69900\n",
       "4 -15.0  2494:May:2010     11.69900"
      ]
     },
     "execution_count": 41,
     "metadata": {},
     "output_type": "execute_result"
    }
   ],
   "source": [
    "prof = \"2494:May:2010\"\n",
    "longDf = pd.melt(df.query('z>-100').loc[:,['z',prof]],id_vars=['z'])\n",
    "longDf = longDf.rename(columns={'variable':'profile', 'value':'Temperature'})\n",
    "longDf.head()"
   ]
  },
  {
   "cell_type": "code",
   "execution_count": 55,
   "id": "51f2db19-c299-4d8b-90a4-e5c0a338dfee",
   "metadata": {},
   "outputs": [],
   "source": [
    "fs = 18\n",
    "tempProfile = alt.Chart(longDf,\n",
    "                        title='Example Temperature Profile with Mixed Layer Depth',\n",
    "                        width=400,\n",
    "                        height=700,\n",
    "                       ).mark_line().encode(\n",
    "x='Temperature:Q',\n",
    "y='z:Q')\n",
    "mldDot = alt.Chart(pd.DataFrame({'z':[-48],'Temperature':[11.683]})).mark_circle(color='red',size=200).encode(\n",
    "    x='Temperature:Q',\n",
    "    y='z:Q')\n",
    "layers = (tempProfile + mldDot).configure_axis(labelFontSize=fs,titleFontSize=fs).configure_title(fontSize=fs)\n",
    "# save(layers,'test.svg')\n",
    "# layers\n"
   ]
  },
  {
   "cell_type": "code",
   "execution_count": 64,
   "id": "c3299c40-39e8-4f90-b8dc-c200e2b9a668",
   "metadata": {},
   "outputs": [
    {
     "ename": "IndexError",
     "evalue": "index 5 is out of bounds for axis 0 with size 5",
     "output_type": "error",
     "traceback": [
      "\u001b[0;31m---------------------------------------------------------------------------\u001b[0m",
      "\u001b[0;31mIndexError\u001b[0m                                Traceback (most recent call last)",
      "Input \u001b[0;32mIn [64]\u001b[0m, in \u001b[0;36m<module>\u001b[0;34m\u001b[0m\n\u001b[1;32m     15\u001b[0m temperature \u001b[38;5;241m=\u001b[39m np\u001b[38;5;241m.\u001b[39marray([\u001b[38;5;241m5.0\u001b[39m,\u001b[38;5;241m5.0\u001b[39m,\u001b[38;5;241m4.95\u001b[39m,\u001b[38;5;241m4.94\u001b[39m,\u001b[38;5;241m4.93\u001b[39m])\n\u001b[1;32m     16\u001b[0m targetDepthIndex \u001b[38;5;241m=\u001b[39m \u001b[38;5;241m3\u001b[39m\n\u001b[0;32m---> 17\u001b[0m output \u001b[38;5;241m=\u001b[39m \u001b[43mmixedLayerIndex\u001b[49m\u001b[43m(\u001b[49m\u001b[43mtemperature\u001b[49m\u001b[38;5;241;43m=\u001b[39;49m\u001b[43mtemperature\u001b[49m\u001b[43m,\u001b[49m\u001b[43mthresholdTemperatureDifference\u001b[49m\u001b[38;5;241;43m=\u001b[39;49m\u001b[38;5;241;43m0.1\u001b[39;49m\u001b[43m)\u001b[49m\n\u001b[1;32m     18\u001b[0m \u001b[38;5;28;01massert\u001b[39;00m output \u001b[38;5;241m==\u001b[39m targetDepthIndex,\u001b[38;5;124mf\u001b[39m\u001b[38;5;124m\"\u001b[39m\u001b[38;5;124moutput:\u001b[39m\u001b[38;5;132;01m{\u001b[39;00moutput\u001b[38;5;132;01m}\u001b[39;00m\u001b[38;5;124m,targetDepthIndex:\u001b[39m\u001b[38;5;132;01m{\u001b[39;00mtargetDepthIndex\u001b[38;5;132;01m}\u001b[39;00m\u001b[38;5;124m\"\u001b[39m\n",
      "Input \u001b[0;32mIn [64]\u001b[0m, in \u001b[0;36mmixedLayerIndex\u001b[0;34m(temperature, thresholdTemperatureDifference)\u001b[0m\n\u001b[1;32m      5\u001b[0m \u001b[38;5;28;01mwhile\u001b[39;00m temperatureDifference \u001b[38;5;241m<\u001b[39m thresholdTemperatureDifference:\n\u001b[1;32m      6\u001b[0m     depthIndex \u001b[38;5;241m+\u001b[39m\u001b[38;5;241m=\u001b[39m \u001b[38;5;241m1\u001b[39m\n\u001b[0;32m----> 7\u001b[0m     temperatureDifference \u001b[38;5;241m=\u001b[39m surfaceTemps \u001b[38;5;241m-\u001b[39m \u001b[43mtemperature\u001b[49m\u001b[43m[\u001b[49m\u001b[43mdepthIndex\u001b[49m\u001b[43m]\u001b[49m\n\u001b[1;32m      8\u001b[0m \u001b[38;5;28;01mreturn\u001b[39;00m depthIndex\n",
      "\u001b[0;31mIndexError\u001b[0m: index 5 is out of bounds for axis 0 with size 5"
     ]
    }
   ],
   "source": [
    "def mixedLayerIndex(temperature:np.ndarray,thresholdTemperatureDifference:float):\n",
    "    surfaceTemps = temperature[:2].mean()\n",
    "    depthIndex = 2\n",
    "    temperatureDifference = surfaceTemps - temperature[depthIndex]\n",
    "    while temperatureDifference < thresholdTemperatureDifference:\n",
    "        depthIndex += 1\n",
    "        temperatureDifference = surfaceTemps - temperature[depthIndex]\n",
    "    return depthIndex\n",
    "        \n",
    "temperature = np.array([5.0,5.0,4.95,4.89,4.85])\n",
    "targetDepthIndex = 3\n",
    "output = mixedLayerIndex(temperature=temperature,thresholdTemperatureDifference=0.1)\n",
    "assert output == targetDepthIndex,f\"output:{output},targetDepthIndex:{targetDepthIndex}\"\n",
    "\n",
    "temperature = np.array([5.0,5.0,4.95,4.94,4.93])\n",
    "targetDepthIndex = 3\n",
    "output = mixedLayerIndex(temperature=temperature,thresholdTemperatureDifference=0.1)\n",
    "assert output == targetDepthIndex,f\"output:{output},targetDepthIndex:{targetDepthIndex}\"\n"
   ]
  },
  {
   "cell_type": "code",
   "execution_count": 67,
   "id": "f29c6138-7ca9-49fe-a4e7-a93b77eb010a",
   "metadata": {},
   "outputs": [],
   "source": [
    "def mixedLayerIndex(temperature:np.ndarray,thresholdTemperatureDifference:float):\n",
    "    surfaceTemps = temperature[:2].mean()\n",
    "    depthIndex = 2\n",
    "    temperatureDifference = surfaceTemps - temperature[depthIndex]\n",
    "    while (temperatureDifference < thresholdTemperatureDifference) and (depthIndex < temperature.shape[0]-1):\n",
    "        depthIndex += 1\n",
    "        temperatureDifference = surfaceTemps - temperature[depthIndex]\n",
    "    return depthIndex\n",
    "temperature = np.array([5.0,5.0,4.95,4.94,4.93])\n",
    "targetDepthIndex = 4\n",
    "output = mixedLayerIndex(temperature=temperature,thresholdTemperatureDifference=0.1)\n",
    "assert output == targetDepthIndex,f\"output:{output},targetDepthIndex:{targetDepthIndex}\"\n"
   ]
  },
  {
   "cell_type": "code",
   "execution_count": 78,
   "id": "9c74b880-f962-4959-9689-b0c71e99eda1",
   "metadata": {},
   "outputs": [
    {
     "name": "stdout",
     "output_type": "stream",
     "text": [
      "Shape of temperature array: (5, 2)\n"
     ]
    }
   ],
   "source": [
    "def mixedLayerIndexArray(temperature:np.ndarray,thresholdTemperatureDifference:float):\n",
    "    surfaceTemps = temperature[:2].mean(axis=0)\n",
    "    depthIndexList = []\n",
    "    for col in range(temperature.shape[1]):\n",
    "        depthIndex = 2\n",
    "        temperatureDifference = surfaceTemps[col] - temperature[depthIndex,col]\n",
    "        while (temperatureDifference < thresholdTemperatureDifference) and (depthIndex < temperature.shape[0]-1):\n",
    "            depthIndex += 1\n",
    "            temperatureDifference = surfaceTemps[col] - temperature[depthIndex,col]\n",
    "        depthIndexList.append(depthIndex)\n",
    "    depthIndexArray = np.array(depthIndexList)\n",
    "    return depthIndexArray\n",
    "temperature = np.array([\n",
    "    [5.0,5.0,4.95,4.89,4.85],\n",
    "    [5.0,5.0,4.95,4.94,4.93]\n",
    "]).T\n",
    "print(f\"Shape of temperature array: {temperature.shape}\")\n",
    "assert temperature.shape[1] == 2\n",
    "targetDepthIndexArray = np.array([3,4])\n",
    "output = mixedLayerIndexArray(temperature=temperature,thresholdTemperatureDifference=0.1)\n",
    "np.testing.assert_array_equal(output,targetDepthIndexArray)\n"
   ]
  },
  {
   "cell_type": "code",
   "execution_count": 83,
   "id": "a5056696-0311-4063-9f53-a43519b10441",
   "metadata": {},
   "outputs": [
    {
     "name": "stdout",
     "output_type": "stream",
     "text": [
      "Shape of temperature array: (5, 2)\n"
     ]
    },
    {
     "ename": "TypeError",
     "evalue": "Cannot index by location index with a non-integer key",
     "output_type": "error",
     "traceback": [
      "\u001b[0;31m---------------------------------------------------------------------------\u001b[0m",
      "\u001b[0;31mTypeError\u001b[0m                                 Traceback (most recent call last)",
      "Input \u001b[0;32mIn [83]\u001b[0m, in \u001b[0;36m<module>\u001b[0;34m\u001b[0m\n\u001b[1;32m     23\u001b[0m \u001b[38;5;28;01massert\u001b[39;00m temperatureDf\u001b[38;5;241m.\u001b[39mshape[\u001b[38;5;241m1\u001b[39m] \u001b[38;5;241m==\u001b[39m \u001b[38;5;241m2\u001b[39m\n\u001b[1;32m     24\u001b[0m targetMixedLayerDf \u001b[38;5;241m=\u001b[39m pd\u001b[38;5;241m.\u001b[39mDataFrame({\u001b[38;5;124m'\u001b[39m\u001b[38;5;124mdepthIndex\u001b[39m\u001b[38;5;124m'\u001b[39m:[\u001b[38;5;241m3\u001b[39m,\u001b[38;5;241m4\u001b[39m],\u001b[38;5;124m'\u001b[39m\u001b[38;5;124mmlTemp\u001b[39m\u001b[38;5;124m'\u001b[39m:[\u001b[38;5;241m4.89\u001b[39m,\u001b[38;5;241m4.93\u001b[39m]})\n\u001b[0;32m---> 25\u001b[0m outputDf \u001b[38;5;241m=\u001b[39m \u001b[43mmixedLayerIndexDataframe\u001b[49m\u001b[43m(\u001b[49m\u001b[43mtemperatureDf\u001b[49m\u001b[38;5;241;43m=\u001b[39;49m\u001b[43mtemperatureDf\u001b[49m\u001b[43m,\u001b[49m\u001b[43mthresholdTemperatureDifference\u001b[49m\u001b[38;5;241;43m=\u001b[39;49m\u001b[38;5;241;43m0.1\u001b[39;49m\u001b[43m)\u001b[49m\n\u001b[1;32m     26\u001b[0m pd\u001b[38;5;241m.\u001b[39mtesting\u001b[38;5;241m.\u001b[39massert_frame_equal(outputDf,targetMixedLayerDf)\n",
      "Input \u001b[0;32mIn [83]\u001b[0m, in \u001b[0;36mmixedLayerIndexDataframe\u001b[0;34m(temperatureDf, thresholdTemperatureDifference)\u001b[0m\n\u001b[1;32m      5\u001b[0m \u001b[38;5;28;01mfor\u001b[39;00m col \u001b[38;5;129;01min\u001b[39;00m temperatureDf\u001b[38;5;241m.\u001b[39mcolumns:\n\u001b[1;32m      6\u001b[0m     depthIndex \u001b[38;5;241m=\u001b[39m \u001b[38;5;241m2\u001b[39m\n\u001b[0;32m----> 7\u001b[0m     temperatureDifference \u001b[38;5;241m=\u001b[39m \u001b[43msurfaceTemps\u001b[49m\u001b[38;5;241;43m.\u001b[39;49m\u001b[43miloc\u001b[49m\u001b[43m[\u001b[49m\u001b[43mcol\u001b[49m\u001b[43m]\u001b[49m \u001b[38;5;241m-\u001b[39m temperatureDf\u001b[38;5;241m.\u001b[39miloc[depthIndex]\u001b[38;5;241m.\u001b[39mloc[col]\n\u001b[1;32m      8\u001b[0m     \u001b[38;5;28;01mwhile\u001b[39;00m (temperatureDifference \u001b[38;5;241m<\u001b[39m thresholdTemperatureDifference) \u001b[38;5;129;01mand\u001b[39;00m (depthIndex \u001b[38;5;241m<\u001b[39m temperature\u001b[38;5;241m.\u001b[39mshape[\u001b[38;5;241m0\u001b[39m]\u001b[38;5;241m-\u001b[39m\u001b[38;5;241m1\u001b[39m):\n\u001b[1;32m      9\u001b[0m         depthIndex \u001b[38;5;241m+\u001b[39m\u001b[38;5;241m=\u001b[39m \u001b[38;5;241m1\u001b[39m\n",
      "File \u001b[0;32m/usr/local/lib/python3.9/site-packages/pandas/core/indexing.py:967\u001b[0m, in \u001b[0;36m_LocationIndexer.__getitem__\u001b[0;34m(self, key)\u001b[0m\n\u001b[1;32m    964\u001b[0m axis \u001b[38;5;241m=\u001b[39m \u001b[38;5;28mself\u001b[39m\u001b[38;5;241m.\u001b[39maxis \u001b[38;5;129;01mor\u001b[39;00m \u001b[38;5;241m0\u001b[39m\n\u001b[1;32m    966\u001b[0m maybe_callable \u001b[38;5;241m=\u001b[39m com\u001b[38;5;241m.\u001b[39mapply_if_callable(key, \u001b[38;5;28mself\u001b[39m\u001b[38;5;241m.\u001b[39mobj)\n\u001b[0;32m--> 967\u001b[0m \u001b[38;5;28;01mreturn\u001b[39;00m \u001b[38;5;28;43mself\u001b[39;49m\u001b[38;5;241;43m.\u001b[39;49m\u001b[43m_getitem_axis\u001b[49m\u001b[43m(\u001b[49m\u001b[43mmaybe_callable\u001b[49m\u001b[43m,\u001b[49m\u001b[43m \u001b[49m\u001b[43maxis\u001b[49m\u001b[38;5;241;43m=\u001b[39;49m\u001b[43maxis\u001b[49m\u001b[43m)\u001b[49m\n",
      "File \u001b[0;32m/usr/local/lib/python3.9/site-packages/pandas/core/indexing.py:1517\u001b[0m, in \u001b[0;36m_iLocIndexer._getitem_axis\u001b[0;34m(self, key, axis)\u001b[0m\n\u001b[1;32m   1515\u001b[0m key \u001b[38;5;241m=\u001b[39m item_from_zerodim(key)\n\u001b[1;32m   1516\u001b[0m \u001b[38;5;28;01mif\u001b[39;00m \u001b[38;5;129;01mnot\u001b[39;00m is_integer(key):\n\u001b[0;32m-> 1517\u001b[0m     \u001b[38;5;28;01mraise\u001b[39;00m \u001b[38;5;167;01mTypeError\u001b[39;00m(\u001b[38;5;124m\"\u001b[39m\u001b[38;5;124mCannot index by location index with a non-integer key\u001b[39m\u001b[38;5;124m\"\u001b[39m)\n\u001b[1;32m   1519\u001b[0m \u001b[38;5;66;03m# validate the location\u001b[39;00m\n\u001b[1;32m   1520\u001b[0m \u001b[38;5;28mself\u001b[39m\u001b[38;5;241m.\u001b[39m_validate_integer(key, axis)\n",
      "\u001b[0;31mTypeError\u001b[0m: Cannot index by location index with a non-integer key"
     ]
    }
   ],
   "source": [
    "def mixedLayerIndexDataframe(temperatureDf:pd.DataFrame,thresholdTemperatureDifference:float):\n",
    "    surfaceTemps = temperatureDf.iloc[:2].mean(axis=0)\n",
    "    depthIndexList = []\n",
    "    baseMixedLayerTemperature = []\n",
    "    for col in temperatureDf.columns:\n",
    "        depthIndex = 2\n",
    "        temperatureDifference = surfaceTemps.iloc[col] - temperatureDf.iloc[depthIndex].loc[col]\n",
    "        while (temperatureDifference < thresholdTemperatureDifference) and (depthIndex < temperature.shape[0]-1):\n",
    "            depthIndex += 1\n",
    "            temperatureDifference = surfaceTemps.iloc[col] - temperatureDf.iloc[depthIndex].loc[col]\n",
    "        depthIndexList.append(depthIndex)\n",
    "        baseMixedLayerTemperature.append(temperatureDf.iloc[depthIndex].loc[col])\n",
    "\n",
    "    mixedLayerDf = pd.DataFrame({'depthIndex': depthIndexList,'mlTemp':baseMixedLayerTemperature})\n",
    "    return mixedLayerDf\n",
    "\n",
    "temperature = np.array([\n",
    "    [5.0,5.0,4.95,4.89,4.85],\n",
    "    [5.0,5.0,4.95,4.94,4.93]\n",
    "]).T\n",
    "temperatureDf = pd.DataFrame(temperature,columns=[\"profA\",\"profB\"])\n",
    "print(f\"Shape of temperature array: {temperatureDf.shape}\")\n",
    "assert temperatureDf.shape[1] == 2\n",
    "targetMixedLayerDf = pd.DataFrame({'depthIndex':[3,4],'mlTemp':[4.89,4.93]})\n",
    "outputDf = mixedLayerIndexDataframe(temperatureDf=temperatureDf,thresholdTemperatureDifference=0.1)\n",
    "pd.testing.assert_frame_equal(outputDf,targetMixedLayerDf)\n"
   ]
  },
  {
   "cell_type": "code",
   "execution_count": null,
   "id": "e2948177-66f4-4f41-ab3a-6f385880ffcf",
   "metadata": {},
   "outputs": [],
   "source": [
    "pd.testing."
   ]
  },
  {
   "cell_type": "code",
   "execution_count": 84,
   "id": "ae868a66-c899-4a13-afb6-9a365420920a",
   "metadata": {},
   "outputs": [
    {
     "ename": "TypeError",
     "evalue": "Cannot index by location index with a non-integer key",
     "output_type": "error",
     "traceback": [
      "\u001b[0;31m---------------------------------------------------------------------------\u001b[0m",
      "\u001b[0;31mTypeError\u001b[0m                                 Traceback (most recent call last)",
      "Input \u001b[0;32mIn [84]\u001b[0m, in \u001b[0;36m<module>\u001b[0;34m\u001b[0m\n\u001b[1;32m      4\u001b[0m \u001b[38;5;28;01mfor\u001b[39;00m col \u001b[38;5;129;01min\u001b[39;00m temperatureDf\u001b[38;5;241m.\u001b[39mcolumns:\n\u001b[1;32m      5\u001b[0m     depthIndex \u001b[38;5;241m=\u001b[39m \u001b[38;5;241m2\u001b[39m\n\u001b[0;32m----> 6\u001b[0m     temperatureDifference \u001b[38;5;241m=\u001b[39m \u001b[43msurfaceTemps\u001b[49m\u001b[38;5;241;43m.\u001b[39;49m\u001b[43miloc\u001b[49m\u001b[43m[\u001b[49m\u001b[43mcol\u001b[49m\u001b[43m]\u001b[49m \u001b[38;5;241m-\u001b[39m temperatureDf\u001b[38;5;241m.\u001b[39miloc[depthIndex]\u001b[38;5;241m.\u001b[39mloc[col]\n\u001b[1;32m      7\u001b[0m     \u001b[38;5;28;01mwhile\u001b[39;00m (temperatureDifference \u001b[38;5;241m<\u001b[39m thresholdTemperatureDifference) \u001b[38;5;129;01mand\u001b[39;00m (depthIndex \u001b[38;5;241m<\u001b[39m temperature\u001b[38;5;241m.\u001b[39mshape[\u001b[38;5;241m0\u001b[39m]\u001b[38;5;241m-\u001b[39m\u001b[38;5;241m1\u001b[39m):\n\u001b[1;32m      8\u001b[0m         depthIndex \u001b[38;5;241m+\u001b[39m\u001b[38;5;241m=\u001b[39m \u001b[38;5;241m1\u001b[39m\n",
      "File \u001b[0;32m/usr/local/lib/python3.9/site-packages/pandas/core/indexing.py:967\u001b[0m, in \u001b[0;36m_LocationIndexer.__getitem__\u001b[0;34m(self, key)\u001b[0m\n\u001b[1;32m    964\u001b[0m axis \u001b[38;5;241m=\u001b[39m \u001b[38;5;28mself\u001b[39m\u001b[38;5;241m.\u001b[39maxis \u001b[38;5;129;01mor\u001b[39;00m \u001b[38;5;241m0\u001b[39m\n\u001b[1;32m    966\u001b[0m maybe_callable \u001b[38;5;241m=\u001b[39m com\u001b[38;5;241m.\u001b[39mapply_if_callable(key, \u001b[38;5;28mself\u001b[39m\u001b[38;5;241m.\u001b[39mobj)\n\u001b[0;32m--> 967\u001b[0m \u001b[38;5;28;01mreturn\u001b[39;00m \u001b[38;5;28;43mself\u001b[39;49m\u001b[38;5;241;43m.\u001b[39;49m\u001b[43m_getitem_axis\u001b[49m\u001b[43m(\u001b[49m\u001b[43mmaybe_callable\u001b[49m\u001b[43m,\u001b[49m\u001b[43m \u001b[49m\u001b[43maxis\u001b[49m\u001b[38;5;241;43m=\u001b[39;49m\u001b[43maxis\u001b[49m\u001b[43m)\u001b[49m\n",
      "File \u001b[0;32m/usr/local/lib/python3.9/site-packages/pandas/core/indexing.py:1517\u001b[0m, in \u001b[0;36m_iLocIndexer._getitem_axis\u001b[0;34m(self, key, axis)\u001b[0m\n\u001b[1;32m   1515\u001b[0m key \u001b[38;5;241m=\u001b[39m item_from_zerodim(key)\n\u001b[1;32m   1516\u001b[0m \u001b[38;5;28;01mif\u001b[39;00m \u001b[38;5;129;01mnot\u001b[39;00m is_integer(key):\n\u001b[0;32m-> 1517\u001b[0m     \u001b[38;5;28;01mraise\u001b[39;00m \u001b[38;5;167;01mTypeError\u001b[39;00m(\u001b[38;5;124m\"\u001b[39m\u001b[38;5;124mCannot index by location index with a non-integer key\u001b[39m\u001b[38;5;124m\"\u001b[39m)\n\u001b[1;32m   1519\u001b[0m \u001b[38;5;66;03m# validate the location\u001b[39;00m\n\u001b[1;32m   1520\u001b[0m \u001b[38;5;28mself\u001b[39m\u001b[38;5;241m.\u001b[39m_validate_integer(key, axis)\n",
      "\u001b[0;31mTypeError\u001b[0m: Cannot index by location index with a non-integer key"
     ]
    }
   ],
   "source": [
    "    surfaceTemps = temperatureDf.iloc[:2].mean(axis=0)\n",
    "    depthIndexList = []\n",
    "    baseMixedLayerTemperature = []\n",
    "    for col in temperatureDf.columns:\n",
    "        depthIndex = 2\n",
    "        temperatureDifference = surfaceTemps.iloc[col] - temperatureDf.iloc[depthIndex].loc[col]\n",
    "        while (temperatureDifference < thresholdTemperatureDifference) and (depthIndex < temperature.shape[0]-1):\n",
    "            depthIndex += 1\n",
    "            temperatureDifference = surfaceTemps.iloc[col] - temperatureDf.iloc[depthIndex].loc[col]\n",
    "        depthIndexList.append(depthIndex)\n",
    "        baseMixedLayerTemperature.append(temperatureDf.iloc[depthIndex].loc[col])\n",
    "\n",
    "    mixedLayerDf = pd.DataFrame({'depthIndex': depthIndexList,'mlTemp':baseMixedLayerTemperature})\n"
   ]
  },
  {
   "cell_type": "code",
   "execution_count": null,
   "id": "ff5c81a8-1bd4-49ca-99b5-19c55dc02968",
   "metadata": {},
   "outputs": [],
   "source": [
    "def numpyNonZeroColumnWise(\n",
    "    temps: np.ndarray,\n",
    "    surfaceTemps: np.ndarray,\n",
    "    thresholdTemperatureDifference: float,\n",
    "    z: np.ndarray,\n",
    "):\n",
    "    condition = temps < (surfaceTemps - thresholdTemperatureDifference)\n",
    "    mldIndex = np.array(\n",
    "        [condition[:, colIdx].nonzero()[0][0] for colIdx in range(temps.shape[1])]\n",
    "    )\n",
    "    mldDepth = np.array([z[idx] for idx in mldIndex])[:, np.newaxis]\n",
    "    mldDepth = z[mldIndex][:, np.newaxis]\n",
    "    mldTemp = np.array([temps[idx, colIdx] for colIdx, idx in enumerate(mldIndex)])[\n",
    "        :, np.newaxis\n",
    "    ]\n",
    "    return mldDepth, mldTemp\n",
    "\n",
    "\n",
    "mldnumpyNonZeroColumnWise, numpymldTempNonZeroColumnWise = numpyNonZeroColumnWise(\n",
    "    temps=temps, surfaceTemps=surfaceTemps, thresholdTemperatureDifference=0.1, z=z\n",
    ")"
   ]
  },
  {
   "cell_type": "code",
   "execution_count": null,
   "id": "f216019b-7ccc-4297-a5b4-89d2db34e816",
   "metadata": {},
   "outputs": [],
   "source": [
    "def createVisualisationDataframes(df:pd.DataFrame,mlDepth:np.ndarray,mldTemp:np.ndarray):\n",
    "    meltDf = pd.melt(\n",
    "        pd.concat([\n",
    "            df.iloc[:,[0]],\n",
    "            df.iloc[:,1:].sample(10,axis=1).drop(columns=['z'],errors='ignore')],axis=1),id_vars=['z'])\n",
    "    mldDf = pd.DataFrame(np.hstack([mlDepth,mldTemp]),index=df.columns[1:],columns=[\"mld\",\"mldTemp\"]).reset_index()\n",
    "    return meltDf,mldDf\n",
    "meltDf,mldDf = createVisualisationDataframes(df=df,mlDepth=mldnumpyNonZeroColumnWise,mldTemp=numpymldTempNonZeroColumnWise)"
   ]
  }
 ],
 "metadata": {
  "kernelspec": {
   "display_name": "Python 3 (ipykernel)",
   "language": "python",
   "name": "python3"
  },
  "language_info": {
   "codemirror_mode": {
    "name": "ipython",
    "version": 3
   },
   "file_extension": ".py",
   "mimetype": "text/x-python",
   "name": "python",
   "nbconvert_exporter": "python",
   "pygments_lexer": "ipython3",
   "version": "3.9.10"
  }
 },
 "nbformat": 4,
 "nbformat_minor": 5
}
