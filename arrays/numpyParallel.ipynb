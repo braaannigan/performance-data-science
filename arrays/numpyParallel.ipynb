{
 "cells": [
  {
   "cell_type": "markdown",
   "id": "17ebf29e-fe09-438c-b611-935ce387fe52",
   "metadata": {},
   "source": [
    "# Parallel loops through numpy arrays with Dask and Joblib\n",
    "We look at speeding up loops through numpy arrays. In this example we have to call a third-party library in each iteration and this third-party library will only accept a subset of our total array. As we are calling a third-party library we can't apply tricks like JIT compilation.\n",
    "\n",
    "The scenario here is that we have a 3-dimensional array with dimensions (x,y,time). We will imagine that this is a time series of 2-dimensional maps of ocean salinity. Our third-party library is the seawater library. This seawater library only accepts 2-dimensional inputs so we need to loop through the time dimension and call this library on each iteration. \n",
    "\n",
    "# Libraries\n",
    "In this example we will use the [Joblib](https://joblib.readthedocs.io/en/latest/) and [dask](https://docs.dask.org/en/stable/) libraries.  In the case of Dask we are using the dask delayed module for parallelising the loop."
   ]
  },
  {
   "cell_type": "code",
   "execution_count": 17,
   "id": "fc4ae17f-fa1a-4670-9a03-71183b9579e6",
   "metadata": {},
   "outputs": [
    {
     "name": "stdout",
     "output_type": "stream",
     "text": [
      "The memory_profiler extension is already loaded. To reload it, use:\n",
      "  %reload_ext memory_profiler\n"
     ]
    }
   ],
   "source": [
    "import numpy as np\n",
    "from joblib import Parallel,delayed\n",
    "import dask\n",
    "\n",
    "import gsw\n",
    "%load_ext memory_profiler"
   ]
  },
  {
   "cell_type": "markdown",
   "id": "9a956b9c-6a82-48d3-8b65-0204f7305d9f",
   "metadata": {},
   "source": [
    "# Generate data\n",
    "We generate the inputs we need for the seawater library. We add arguments to allow us to specify the size of the array."
   ]
  },
  {
   "cell_type": "code",
   "execution_count": 2,
   "id": "a997fbf8-d1f3-42e6-a3d8-ad51a1da6805",
   "metadata": {},
   "outputs": [],
   "source": [
    "def generateData(xyLength:int,timesteps:int):\n",
    "    SPTimeseries = 35 + np.random.standard_normal(size=(xyLength,xyLength,timesteps))\n",
    "    assert SPTimeseries.shape == (xyLength,xyLength,timesteps)\n",
    "    p = 0\n",
    "    lon = np.tile(np.linspace(0,100,xyLength)[:,np.newaxis],xyLength)\n",
    "    assert lon.shape == (xyLength,xyLength)\n",
    "    lat = np.tile(np.linspace(-30,30,xyLength)[:,np.newaxis],xyLength)\n",
    "    assert lat.shape == (xyLength,xyLength)\n",
    "    return SPTimeseries,p,lon,lat\n",
    "\n",
    "SPTimeseries,p,lon,lat = generateData(xyLength=3,timesteps=3)    "
   ]
  },
  {
   "cell_type": "markdown",
   "id": "175b9265-0b8b-45e2-91ae-e121272c9b9d",
   "metadata": {},
   "source": [
    "We define the function that we are going to call in each iteration `getAbsoluteSalinity`"
   ]
  },
  {
   "cell_type": "code",
   "execution_count": 3,
   "id": "7576fb64-c8d4-4e7b-86b7-3eab94713360",
   "metadata": {},
   "outputs": [],
   "source": [
    "def getAbsoluteSalinity(SPSnapshot:np.ndarray,p:int,lon:np.ndarray,lat:np.ndarray):\n",
    "    return gsw.SA_from_SP(SPSnapshot,p,lon,lat)"
   ]
  },
  {
   "cell_type": "markdown",
   "id": "225718b0-aef7-4f09-81d6-41a47a217e98",
   "metadata": {},
   "source": [
    "First we create a baseline non-parallelised function to do sequential processing"
   ]
  },
  {
   "cell_type": "code",
   "execution_count": 1,
   "id": "1b0004a8-3687-4389-bc62-ca056d9afa72",
   "metadata": {},
   "outputs": [
    {
     "ename": "NameError",
     "evalue": "name 'np' is not defined",
     "output_type": "error",
     "traceback": [
      "\u001b[0;31m---------------------------------------------------------------------------\u001b[0m",
      "\u001b[0;31mNameError\u001b[0m                                 Traceback (most recent call last)",
      "Input \u001b[0;32mIn [1]\u001b[0m, in \u001b[0;36m<module>\u001b[0;34m\u001b[0m\n\u001b[0;32m----> 1\u001b[0m \u001b[38;5;28;01mdef\u001b[39;00m \u001b[38;5;21msequentialProcessing\u001b[39m(SPTimeseries:\u001b[43mnp\u001b[49m\u001b[38;5;241m.\u001b[39mndarray,p:\u001b[38;5;28mint\u001b[39m,lon:np\u001b[38;5;241m.\u001b[39mndarray,lat:np\u001b[38;5;241m.\u001b[39mndarray,):\n\u001b[1;32m      2\u001b[0m     \u001b[38;5;28mbreakpoint\u001b[39m()\n\u001b[1;32m      3\u001b[0m     \u001b[38;5;28;01mreturn\u001b[39;00m np\u001b[38;5;241m.\u001b[39mstack(\n\u001b[1;32m      4\u001b[0m         [getAbsoluteSalinity(SPTimeseries[:,:,timestep], p, lon, lat) \u001b[38;5;28;01mfor\u001b[39;00m timestep \u001b[38;5;129;01min\u001b[39;00m \u001b[38;5;28mrange\u001b[39m(SPTimeseries\u001b[38;5;241m.\u001b[39mshape[\u001b[38;5;241m2\u001b[39m])],\n\u001b[1;32m      5\u001b[0m         axis\u001b[38;5;241m=\u001b[39m\u001b[38;5;241m2\u001b[39m)\n",
      "\u001b[0;31mNameError\u001b[0m: name 'np' is not defined"
     ]
    }
   ],
   "source": [
    "def sequentialProcessing(SPTimeseries:np.ndarray,p:int,lon:np.ndarray,lat:np.ndarray,):\n",
    "    return np.stack(\n",
    "        [getAbsoluteSalinity(SPTimeseries[:,:,timestep], p, lon, lat) for timestep in range(SPTimeseries.shape[2])],\n",
    "        axis=2)\n",
    "\n",
    "outputSeq = sequentialProcessing(SPTimeseries=SPTimeseries,p=p,lon=lon,lat=lat)\n",
    "assert outputSeq.shape == SPTimeseries.shape"
   ]
  },
  {
   "cell_type": "markdown",
   "id": "f8df9d06-cf08-4d1f-aa88-f902cf003ac3",
   "metadata": {},
   "source": [
    "Now we create a parallel processing function using Joblib and test to make sure the outputs are the same as for the sequential processing"
   ]
  },
  {
   "cell_type": "code",
   "execution_count": 5,
   "id": "38abe00c-a121-4ac8-b29b-3fe3131a12e3",
   "metadata": {},
   "outputs": [],
   "source": [
    "def parallelProcessing(SPTimeseries:np.ndarray,p:int,lon:np.ndarray,lat:np.ndarray,backend = \"threading\",n_jobs:int=2):\n",
    "    return np.stack(\n",
    "        Parallel(n_jobs=n_jobs, backend=backend)(delayed(getAbsoluteSalinity)(SPTimeseries[:,:,timestep], p, lon, lat) for timestep in range(SPTimeseries.shape[2])),\n",
    "    axis=2)\n",
    "\n",
    "outputParallel = parallelProcessing(SPTimeseries=SPTimeseries,p=p,lon=lon,lat=lat,n_jobs=1)\n",
    "assert outputParallel.shape == SPTimeseries.shape\n",
    "np.testing.assert_array_equal(outputSeq,outputParallel)"
   ]
  },
  {
   "cell_type": "markdown",
   "id": "b618dfb5-d6e4-49c9-8a36-41558612e67a",
   "metadata": {},
   "source": [
    "How about doing the calculation with 32-bit floats instead of 64-bit floats?  We can re-use the 64-bit function but we will cast the input to to 32-bit floats. \n",
    "\n",
    "Note that we have to test the output with `np.testing.assert_array_almost_equal` to 5-decimal places to check the output is nearly equivalent."
   ]
  },
  {
   "cell_type": "code",
   "execution_count": 6,
   "id": "60956327-e456-4a2d-8e4c-0d3d7e496ef1",
   "metadata": {},
   "outputs": [],
   "source": [
    "SPTimeseries32 = SPTimeseries.astype(np.float32)\n",
    "outputParallel32 = parallelProcessing(SPTimeseries=SPTimeseries,p=p,lon=lon,lat=lat,n_jobs=1)\n",
    "assert outputParallel32.shape == SPTimeseries.shape\n",
    "np.testing.assert_array_almost_equal(outputSeq,outputParallel32,decimal=5)"
   ]
  },
  {
   "cell_type": "markdown",
   "id": "0d3642f7-cb77-4d9a-a63e-a237afe0e8be",
   "metadata": {},
   "source": [
    "Finally we create a function for processing using dask delayed. We test each time to make sure that the outputs are the same in each case."
   ]
  },
  {
   "cell_type": "code",
   "execution_count": 7,
   "id": "5c0ebe09-bba3-411f-ba75-cbb7c1bfe928",
   "metadata": {},
   "outputs": [],
   "source": [
    "def daskDelayedProcessing(SPTimeseries:np.ndarray,p:int,lon:np.ndarray,lat:np.ndarray):\n",
    "    outputs = []\n",
    "    for timestep in range(SPTimeseries.shape[2]):\n",
    "        y = dask.delayed(getAbsoluteSalinity)(SPTimeseries[:,:,timestep], p, lon, lat)\n",
    "        outputs.append(y)\n",
    "    return np.stack(dask.compute(*outputs),axis=2)\n",
    "outputDask = daskDelayedProcessing(SPTimeseries=SPTimeseries,p=p,lon=lon,lat=lat)\n",
    "assert outputDask.shape == SPTimeseries.shape\n",
    "np.testing.assert_array_equal(outputParallel,outputDask)"
   ]
  },
  {
   "cell_type": "code",
   "execution_count": 63,
   "id": "57ff0f93-2372-46a1-b432-d32893420178",
   "metadata": {},
   "outputs": [],
   "source": [
    "xyLength = 1000\n",
    "timesteps = 100\n",
    "SPTimeseries,p,lon,lat = generateData(xyLength=xyLength,timesteps=timesteps)    "
   ]
  },
  {
   "cell_type": "code",
   "execution_count": 64,
   "id": "536942f2-421c-4a95-a2be-55645c7f89a3",
   "metadata": {},
   "outputs": [
    {
     "name": "stdout",
     "output_type": "stream",
     "text": [
      "12.8 s ± 0 ns per loop (mean ± std. dev. of 1 run, 1 loop each)\n"
     ]
    }
   ],
   "source": [
    "%timeit -n 1 -r 1 sequentialProcessing(SPTimeseries=SPTimeseries,p=p,lon=lon,lat=lat)"
   ]
  },
  {
   "cell_type": "code",
   "execution_count": 65,
   "id": "bd2f014e-46f7-4291-a4ae-7795ea267a50",
   "metadata": {},
   "outputs": [
    {
     "name": "stdout",
     "output_type": "stream",
     "text": [
      "6.31 s ± 0 ns per loop (mean ± std. dev. of 1 run, 1 loop each)\n"
     ]
    }
   ],
   "source": [
    "%timeit -n 1 -r 1 parallelProcessing(SPTimeseries=SPTimeseries,p=p,lon=lon,lat=lat,n_jobs=2)"
   ]
  },
  {
   "cell_type": "code",
   "execution_count": 68,
   "id": "a56318fc-e5bd-4d2e-9c1c-93b6fd3da92f",
   "metadata": {},
   "outputs": [
    {
     "name": "stdout",
     "output_type": "stream",
     "text": [
      "3.75 s ± 0 ns per loop (mean ± std. dev. of 1 run, 1 loop each)\n"
     ]
    }
   ],
   "source": [
    "%timeit -n 1 -r 1 parallelProcessing(SPTimeseries=SPTimeseries,p=p,lon=lon,lat=lat,n_jobs=4)"
   ]
  },
  {
   "cell_type": "code",
   "execution_count": 69,
   "id": "0311d80b-2789-4942-aa18-5753c53f3245",
   "metadata": {},
   "outputs": [
    {
     "name": "stdout",
     "output_type": "stream",
     "text": [
      "3.96 s ± 0 ns per loop (mean ± std. dev. of 1 run, 1 loop each)\n"
     ]
    }
   ],
   "source": [
    "%timeit -n 1 -r 1 parallelProcessing(SPTimeseries=SPTimeseries,p=p,lon=lon,lat=lat,n_jobs=8)"
   ]
  },
  {
   "cell_type": "code",
   "execution_count": 73,
   "id": "00b1262b-7805-492a-97e9-522dbaaa45f8",
   "metadata": {},
   "outputs": [
    {
     "name": "stdout",
     "output_type": "stream",
     "text": [
      "2.9 s ± 34.2 ms per loop (mean ± std. dev. of 7 runs, 1 loop each)\n"
     ]
    }
   ],
   "source": [
    "SPTimeseries32 = SPTimeseries.astype(np.float32)\n",
    "%timeit parallelProcessing(SPTimeseries=SPTimeseries32,p=p,lon=lon,lat=lat,n_jobs=8)"
   ]
  },
  {
   "cell_type": "code",
   "execution_count": 42,
   "id": "70832198-4e4f-4cfe-b3f5-59fea5dca896",
   "metadata": {},
   "outputs": [
    {
     "name": "stdout",
     "output_type": "stream",
     "text": [
      "peak memory: 3301.66 MiB, increment: 1464.84 MiB\n"
     ]
    }
   ],
   "source": [
    "%memit sequentialProcessing(SPTimeseries=SPTimeseries,p=p,lon=lon,lat=lat)"
   ]
  },
  {
   "cell_type": "code",
   "execution_count": 43,
   "id": "54d480b0-c02e-48b5-b014-02902343fa51",
   "metadata": {},
   "outputs": [
    {
     "name": "stdout",
     "output_type": "stream",
     "text": [
      "peak memory: 3300.92 MiB, increment: 1525.00 MiB\n"
     ]
    }
   ],
   "source": [
    "%memit parallelProcessing(SPTimeseries=SPTimeseries,p=p,lon=lon,lat=lat,n_jobs=8)"
   ]
  },
  {
   "cell_type": "code",
   "execution_count": 74,
   "id": "77358b80-ad9c-4c95-91d2-390a620c7989",
   "metadata": {},
   "outputs": [
    {
     "name": "stdout",
     "output_type": "stream",
     "text": [
      "peak memory: 3816.03 MiB, increment: 1585.90 MiB\n"
     ]
    }
   ],
   "source": [
    "%memit parallelProcessing32(SPTimeseries=SPTimeseries32,p=p,lon=lon,lat=lat,n_jobs=8)"
   ]
  },
  {
   "cell_type": "code",
   "execution_count": 47,
   "id": "341324cc-12b5-450e-92e0-ae218f27cd3b",
   "metadata": {},
   "outputs": [
    {
     "name": "stdout",
     "output_type": "stream",
     "text": [
      "peak memory: 2436.57 MiB, increment: 1356.46 MiB\n"
     ]
    }
   ],
   "source": [
    "%memit daskDelayedProcessing(SPTimeseries=SPTimeseries,p=p,lon=lon,lat=lat)"
   ]
  },
  {
   "cell_type": "code",
   "execution_count": null,
   "id": "94ae55d0-8dc5-4f83-8a14-c4a971a3c670",
   "metadata": {},
   "outputs": [],
   "source": []
  },
  {
   "cell_type": "code",
   "execution_count": 45,
   "id": "e72502a7-a691-48d8-afbc-d4e5ea1efbf1",
   "metadata": {},
   "outputs": [
    {
     "name": "stdout",
     "output_type": "stream",
     "text": [
      "4.78 s ± 101 ms per loop (mean ± std. dev. of 7 runs, 1 loop each)\n"
     ]
    }
   ],
   "source": [
    "%timeit daskDelayedProcessing(SPTimeseries=SPTimeseries,p=p,lon=lon,lat=lat)"
   ]
  },
  {
   "cell_type": "code",
   "execution_count": 49,
   "id": "fe30bf3b-7c20-4c90-a294-bc75bef7aefb",
   "metadata": {},
   "outputs": [
    {
     "data": {
      "text/plain": [
       "dtype('float64')"
      ]
     },
     "execution_count": 49,
     "metadata": {},
     "output_type": "execute_result"
    }
   ],
   "source": [
    "SPTimeseries.dtype"
   ]
  },
  {
   "cell_type": "code",
   "execution_count": null,
   "id": "ce426364-4c8b-4871-8862-c44b888ee50e",
   "metadata": {},
   "outputs": [],
   "source": []
  }
 ],
 "metadata": {
  "kernelspec": {
   "display_name": "Python 3 (ipykernel)",
   "language": "python",
   "name": "python3"
  },
  "language_info": {
   "codemirror_mode": {
    "name": "ipython",
    "version": 3
   },
   "file_extension": ".py",
   "mimetype": "text/x-python",
   "name": "python",
   "nbconvert_exporter": "python",
   "pygments_lexer": "ipython3",
   "version": "3.9.10"
  }
 },
 "nbformat": 4,
 "nbformat_minor": 5
}
