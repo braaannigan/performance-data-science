{
 "cells": [
  {
   "cell_type": "code",
   "execution_count": 1,
   "id": "d5b2e7b7-4fa7-468f-a0a9-2c8ff041f407",
   "metadata": {},
   "outputs": [],
   "source": [
    "from pathlib import Path\n",
    "\n",
    "import pandas as pd\n",
    "import numpy as np\n",
    "import pythran\n",
    "\n",
    "import altair as alt\n",
    "\n",
    "from IPython.display import Markdown, display\n",
    "\n",
    "%load_ext pythran.magic\n"
   ]
  },
  {
   "cell_type": "code",
   "execution_count": 2,
   "id": "9d5b4330-cec7-45d7-83f5-536c5b6ae40c",
   "metadata": {},
   "outputs": [],
   "source": [
    "def printmd(string):\n",
    "    display(Markdown(string))"
   ]
  },
  {
   "cell_type": "code",
   "execution_count": 3,
   "id": "4f704ae5-04e0-4498-b970-e8c667627910",
   "metadata": {},
   "outputs": [],
   "source": [
    "dataPath = Path(\"../data/raw/\")\n",
    "interimDataPath = Path(\"../data/interim/\")\n",
    "\n",
    "def loadData(duplicateN:int=1):\n",
    "    df = pd.read_csv(dataPath / \"atlanticInterpolated.csv\")\n",
    "    z = df.z.values\n",
    "    dropColumns = []\n",
    "    for col in df.columns:\n",
    "        if df.loc[30, col] > df.loc[0, col] - 0.1:\n",
    "            dropColumns.append(col)\n",
    "    df = df.drop(columns=dropColumns)\n",
    "    df = pd.concat([df for _ in range(duplicateN)], axis=1)\n",
    "    temps = df.iloc[:, 1:].values\n",
    "    tempsC = np.ascontiguousarray(temps)\n",
    "    surfaceTemps = temps[:2, :].mean(axis=0)\n",
    "    surfaceTempsC = tempsC[:2, :].mean(axis=0)\n",
    "    return df, temps, z, tempsC, surfaceTemps, surfaceTempsC"
   ]
  },
  {
   "cell_type": "code",
   "execution_count": 4,
   "id": "7b27d542-67c1-4685-a8d0-be4e0fd5e2c4",
   "metadata": {},
   "outputs": [
    {
     "name": "stdout",
     "output_type": "stream",
     "text": [
      "Load data\n",
      "Data loaded\n"
     ]
    }
   ],
   "source": [
    "print(\"Load data\")\n",
    "df, temps, z, tempsC, surfaceTemps, surfaceTempsC = loadData(duplicateN=100)\n",
    "print(\"Data loaded\")"
   ]
  },
  {
   "cell_type": "code",
   "execution_count": 5,
   "id": "e26d412b-b602-424b-bcab-bdc4193f54bd",
   "metadata": {},
   "outputs": [
    {
     "data": {
      "text/plain": [
       "(248299,)"
      ]
     },
     "execution_count": 5,
     "metadata": {},
     "output_type": "execute_result"
    }
   ],
   "source": [
    "thresholdTemperatureDifference = 0.1\n",
    "surfaceTemps = temps[:2,:].mean(axis=0)\n",
    "surfaceTemps.shape"
   ]
  },
  {
   "cell_type": "code",
   "execution_count": 6,
   "id": "e80d3dcb-5945-4d5c-b2d7-08aa4fd53dcb",
   "metadata": {},
   "outputs": [
    {
     "name": "stdout",
     "output_type": "stream",
     "text": [
      "1.05 s ± 23.1 ms per loop (mean ± std. dev. of 5 runs, 1 loop each)\n"
     ]
    }
   ],
   "source": [
    "%timeit -n 1 -r 5 (temps < (surfaceTemps - thresholdTemperatureDifference)).nonzero()"
   ]
  },
  {
   "cell_type": "code",
   "execution_count": 7,
   "id": "677a80e1-f941-497c-bf61-4ec8f38a8812",
   "metadata": {},
   "outputs": [],
   "source": [
    "%%pythran\n",
    "#pythran export pythranFunc(float64[:,:] order(C), float64[] order(C), float)\n",
    "def pythranFunc(temps,surfaceTemps,thresholdTemperatureDifference):\n",
    "    return (temps < (surfaceTemps - thresholdTemperatureDifference)).nonzero()"
   ]
  },
  {
   "cell_type": "code",
   "execution_count": 8,
   "id": "0328b6f9-73a1-4ce1-9a4e-aa53bec15597",
   "metadata": {},
   "outputs": [
    {
     "name": "stdout",
     "output_type": "stream",
     "text": [
      "419 ms ± 6.71 ms per loop (mean ± std. dev. of 5 runs, 1 loop each)\n"
     ]
    }
   ],
   "source": [
    "%timeit -n 1 -r 5 pythranFunc(tempsC,surfaceTempsC,thresholdTemperatureDifference)"
   ]
  },
  {
   "cell_type": "code",
   "execution_count": null,
   "id": "11fd1a07-edfd-44e2-8bfc-0fe4cd5cb604",
   "metadata": {},
   "outputs": [],
   "source": []
  },
  {
   "cell_type": "code",
   "execution_count": null,
   "id": "c03a7278-20ce-4ec1-9a8f-e8900bf65374",
   "metadata": {},
   "outputs": [],
   "source": []
  }
 ],
 "metadata": {
  "kernelspec": {
   "display_name": "Python 3 (ipykernel)",
   "language": "python",
   "name": "python3"
  },
  "language_info": {
   "codemirror_mode": {
    "name": "ipython",
    "version": 3
   },
   "file_extension": ".py",
   "mimetype": "text/x-python",
   "name": "python",
   "nbconvert_exporter": "python",
   "pygments_lexer": "ipython3",
   "version": "3.9.10"
  }
 },
 "nbformat": 4,
 "nbformat_minor": 5
}
