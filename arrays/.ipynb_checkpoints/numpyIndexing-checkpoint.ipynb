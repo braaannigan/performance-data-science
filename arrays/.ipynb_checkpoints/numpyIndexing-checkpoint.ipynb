{
 "cells": [
  {
   "cell_type": "code",
   "execution_count": 2,
   "id": "7c52ad97-8b86-4d61-8873-6608c47400a5",
   "metadata": {},
   "outputs": [],
   "source": [
    "import numpy as np\n"
   ]
  },
  {
   "cell_type": "code",
   "execution_count": 24,
   "id": "80bb12a9-789d-4e41-825d-4997138ac78b",
   "metadata": {},
   "outputs": [],
   "source": [
    "Ncols = 1000000\n",
    "Nrows = 100\n",
    "td = np.random.standard_normal((Nrows,Ncols))"
   ]
  },
  {
   "cell_type": "code",
   "execution_count": 25,
   "id": "9ff4b634-7fe7-4a9b-a66f-edd74546397f",
   "metadata": {},
   "outputs": [],
   "source": [
    "inds = (\n",
    "    np.random.randint(low=0,high=Nrows-1,size=Ncols),\n",
    "    np.random.randint(low=0,high=Ncols-1,size=Ncols)\n",
    ")\n",
    "# inds.shape"
   ]
  },
  {
   "cell_type": "code",
   "execution_count": 5,
   "id": "76a14f8f-63f2-4ede-806d-270f9e46b58d",
   "metadata": {},
   "outputs": [],
   "source": [
    "# a.take(indx.flat).reshape(rows.size,cols.size)\n"
   ]
  },
  {
   "cell_type": "code",
   "execution_count": null,
   "id": "23442554-a66e-408a-bca0-76517b320001",
   "metadata": {},
   "outputs": [],
   "source": []
  },
  {
   "cell_type": "code",
   "execution_count": 26,
   "id": "108e923c-d531-4ee0-9143-f66dda592a5b",
   "metadata": {},
   "outputs": [
    {
     "name": "stdout",
     "output_type": "stream",
     "text": [
      "(1000000,)\n"
     ]
    }
   ],
   "source": [
    "rows = inds[0]\n",
    "cols = inds[1]\n",
    "rav = (td.ravel()[(cols + (rows * td.shape[1])).ravel()])\n",
    "print(rav.shape)"
   ]
  },
  {
   "cell_type": "code",
   "execution_count": 12,
   "id": "77953512-0046-43fe-9444-46494f0fbd43",
   "metadata": {},
   "outputs": [],
   "source": [
    "np.testing.assert_array_equal(td[inds],rav)\n"
   ]
  },
  {
   "cell_type": "code",
   "execution_count": 13,
   "id": "0bff7a1d-18bc-401f-b828-263c70af1c73",
   "metadata": {},
   "outputs": [
    {
     "name": "stdout",
     "output_type": "stream",
     "text": [
      "11 µs ± 2.74 µs per loop (mean ± std. dev. of 7 runs, 1 loop each)\n"
     ]
    }
   ],
   "source": [
    "%timeit -n 1 (td.ravel())"
   ]
  },
  {
   "cell_type": "code",
   "execution_count": 27,
   "id": "4b96785b-f21d-45b1-ac3a-0550afdc7968",
   "metadata": {},
   "outputs": [
    {
     "name": "stdout",
     "output_type": "stream",
     "text": [
      "34.2 ms ± 0 ns per loop (mean ± std. dev. of 1 run, 1 loop each)\n"
     ]
    }
   ],
   "source": [
    "%timeit -n 1 -r 1 (td.ravel()[(cols + (rows * td.shape[1])).ravel()])"
   ]
  },
  {
   "cell_type": "code",
   "execution_count": 28,
   "id": "74a4c1a3-e3f2-455f-a6f9-b3301717e85a",
   "metadata": {},
   "outputs": [
    {
     "name": "stdout",
     "output_type": "stream",
     "text": [
      "51.4 ms ± 0 ns per loop (mean ± std. dev. of 1 run, 1 loop each)\n"
     ]
    }
   ],
   "source": [
    "%timeit -n 1 -r 1 td[inds]"
   ]
  },
  {
   "cell_type": "code",
   "execution_count": 23,
   "id": "4ca8664e-4658-49fc-9381-feef8bf16127",
   "metadata": {},
   "outputs": [
    {
     "ename": "AttributeError",
     "evalue": "'tuple' object has no attribute 'T'",
     "output_type": "error",
     "traceback": [
      "\u001b[0;31m---------------------------------------------------------------------------\u001b[0m",
      "\u001b[0;31mAttributeError\u001b[0m                            Traceback (most recent call last)",
      "Input \u001b[0;32mIn [23]\u001b[0m, in \u001b[0;36m<module>\u001b[0;34m\u001b[0m\n\u001b[0;32m----> 1\u001b[0m \u001b[38;5;28;01mfor\u001b[39;00m a \u001b[38;5;129;01min\u001b[39;00m \u001b[43minds\u001b[49m\u001b[38;5;241;43m.\u001b[39;49m\u001b[43mT\u001b[49m:\n\u001b[1;32m      2\u001b[0m     \u001b[38;5;28mprint\u001b[39m(a)\n",
      "\u001b[0;31mAttributeError\u001b[0m: 'tuple' object has no attribute 'T'"
     ]
    }
   ],
   "source": [
    "for a in inds.T:\n",
    "    print(a)"
   ]
  },
  {
   "cell_type": "code",
   "execution_count": null,
   "id": "aebddd12-d828-46c5-a37d-e36ab19967bf",
   "metadata": {},
   "outputs": [],
   "source": []
  }
 ],
 "metadata": {
  "kernelspec": {
   "display_name": "Python 3 (ipykernel)",
   "language": "python",
   "name": "python3"
  },
  "language_info": {
   "codemirror_mode": {
    "name": "ipython",
    "version": 3
   },
   "file_extension": ".py",
   "mimetype": "text/x-python",
   "name": "python",
   "nbconvert_exporter": "python",
   "pygments_lexer": "ipython3",
   "version": "3.9.10"
  }
 },
 "nbformat": 4,
 "nbformat_minor": 5
}
