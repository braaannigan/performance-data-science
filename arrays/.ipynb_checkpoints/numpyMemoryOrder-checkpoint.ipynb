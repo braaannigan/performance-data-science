{
 "cells": [
  {
   "cell_type": "code",
   "execution_count": 1,
   "id": "7a57a04a-86cb-4939-8ac8-96a91ec76a6b",
   "metadata": {},
   "outputs": [],
   "source": [
    "import numpy as np"
   ]
  },
  {
   "cell_type": "code",
   "execution_count": 16,
   "id": "34dea547-91c4-4600-af45-7c7bf3eccbda",
   "metadata": {},
   "outputs": [],
   "source": [
    "square = np.random.standard_normal(size=(1000,1000))\n",
    "squareFortran = np.asfortranarray(np.random.standard_normal(size=(1000,1000)))\n",
    "wide = np.random.standard_normal(size=(100,1000))\n",
    "wideFortran = np.asfortranarray(np.random.standard_normal(size=(100,1000)))\n",
    "long = np.random.standard_normal(size=(1000,100))\n",
    "longFortran = np.asfortranarray(np.random.standard_normal(size=(1000,100)))"
   ]
  },
  {
   "cell_type": "code",
   "execution_count": 18,
   "id": "b20a9f2a-9671-40b9-ae46-a1ab6c423a29",
   "metadata": {},
   "outputs": [
    {
     "name": "stdout",
     "output_type": "stream",
     "text": [
      "False False False\n",
      "True True True\n"
     ]
    }
   ],
   "source": [
    "print(np.isfortran(square),np.isfortran(wide),np.isfortran(long))\n",
    "print(np.isfortran(squareFortran),np.isfortran(wideFortran),np.isfortran(longFortran))"
   ]
  },
  {
   "cell_type": "code",
   "execution_count": 19,
   "id": "082424d3-7666-427f-a10c-f472e8bf3f0a",
   "metadata": {},
   "outputs": [
    {
     "name": "stdout",
     "output_type": "stream",
     "text": [
      "486 µs ± 29.6 µs per loop (mean ± std. dev. of 7 runs, 1,000 loops each)\n",
      "516 µs ± 28.6 µs per loop (mean ± std. dev. of 7 runs, 1,000 loops each)\n",
      "484 µs ± 15.5 µs per loop (mean ± std. dev. of 7 runs, 1,000 loops each)\n",
      "481 µs ± 2.81 µs per loop (mean ± std. dev. of 7 runs, 1,000 loops each)\n"
     ]
    }
   ],
   "source": [
    "%timeit square.mean(axis=0)\n",
    "%timeit square.mean(axis=1)\n",
    "%timeit squareFortran.mean(axis=0)\n",
    "%timeit squareFortran.mean(axis=1)"
   ]
  },
  {
   "cell_type": "code",
   "execution_count": null,
   "id": "1cbb020b-0e5d-4dfe-b192-4b49df8ff21c",
   "metadata": {},
   "outputs": [],
   "source": []
  }
 ],
 "metadata": {
  "kernelspec": {
   "display_name": "Python 3 (ipykernel)",
   "language": "python",
   "name": "python3"
  },
  "language_info": {
   "codemirror_mode": {
    "name": "ipython",
    "version": 3
   },
   "file_extension": ".py",
   "mimetype": "text/x-python",
   "name": "python",
   "nbconvert_exporter": "python",
   "pygments_lexer": "ipython3",
   "version": "3.9.10"
  }
 },
 "nbformat": 4,
 "nbformat_minor": 5
}
