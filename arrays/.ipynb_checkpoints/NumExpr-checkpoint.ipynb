{
 "cells": [
  {
   "cell_type": "code",
   "execution_count": 41,
   "id": "67bb2eea-177e-4010-92f2-1c2fd391e88f",
   "metadata": {},
   "outputs": [],
   "source": [
    "import numpy as np\n",
    "import numexpr as ne\n",
    "import time"
   ]
  },
  {
   "cell_type": "code",
   "execution_count": 86,
   "id": "c641351d-94cf-4592-a39b-b8c2f4d63018",
   "metadata": {},
   "outputs": [],
   "source": [
    "oneDim = np.random.standard_normal((int(1e8),1))\n",
    "twoDim = np.random.standard_normal((int(1e8),2))"
   ]
  },
  {
   "cell_type": "markdown",
   "id": "0ac79250-b028-4537-8d54-de146e8fe1fe",
   "metadata": {},
   "source": [
    "Note: in NumExpr we drop the `np.` and just have e.g. `exp(oneDim)` and not `np.exp(oneDim)`\n",
    "\n",
    "You need large arrays to see the performance difference"
   ]
  },
  {
   "cell_type": "code",
   "execution_count": 90,
   "id": "34939236-b71f-43c9-82b3-bfe6f5be42d8",
   "metadata": {},
   "outputs": [
    {
     "name": "stdout",
     "output_type": "stream",
     "text": [
      "33.3 s ± 0 ns per loop (mean ± std. dev. of 1 run, 1 loop each)\n"
     ]
    }
   ],
   "source": [
    "%timeit -n 1 -r 1 np.exp(oneDim)"
   ]
  },
  {
   "cell_type": "code",
   "execution_count": 91,
   "id": "8d6e60c8-a4cb-4861-8ffe-7e8e149833db",
   "metadata": {},
   "outputs": [
    {
     "name": "stdout",
     "output_type": "stream",
     "text": [
      "17 s ± 0 ns per loop (mean ± std. dev. of 1 run, 1 loop each)\n"
     ]
    }
   ],
   "source": [
    "%timeit -n 1 -r 1 ne.evaluate(\"exp(oneDim)\")"
   ]
  },
  {
   "cell_type": "code",
   "execution_count": 92,
   "id": "dd40d73e-427c-41b8-a8fe-be1e8b1607d1",
   "metadata": {},
   "outputs": [
    {
     "data": {
      "text/plain": [
       "3127.516508102417"
      ]
     },
     "execution_count": 92,
     "metadata": {},
     "output_type": "execute_result"
    }
   ],
   "source": [
    "np.testing.assert_array_equal(np.exp(oneDim),ne.evaluate(\"exp(oneDim)\"))\n",
    "start = time.time()\n",
    "np.exp(oneDim)\n",
    "end = time.time()\n",
    "(end - start)*1e3"
   ]
  },
  {
   "cell_type": "code",
   "execution_count": 93,
   "id": "5b1b7bde-f668-4d6f-9775-eaa6fae2e507",
   "metadata": {},
   "outputs": [
    {
     "data": {
      "text/plain": [
       "473.19841384887695"
      ]
     },
     "execution_count": 93,
     "metadata": {},
     "output_type": "execute_result"
    }
   ],
   "source": [
    "start = time.time()\n",
    "ne.evaluate(\"exp(oneDim)\")\n",
    "end = time.time()\n",
    "(end - start)*1e3\n"
   ]
  },
  {
   "cell_type": "code",
   "execution_count": 94,
   "id": "f1a67d35-47c8-4122-b44f-c0598dbfe887",
   "metadata": {},
   "outputs": [
    {
     "data": {
      "text/plain": [
       "4807.11817741394"
      ]
     },
     "execution_count": 94,
     "metadata": {},
     "output_type": "execute_result"
    }
   ],
   "source": [
    "start = time.time()\n",
    "oneDim**2 + 2*oneDim\n",
    "end = time.time()\n",
    "(end - start)*1e3"
   ]
  },
  {
   "cell_type": "code",
   "execution_count": 95,
   "id": "fd1143fd-5b54-4266-872c-3db105109967",
   "metadata": {},
   "outputs": [
    {
     "data": {
      "text/plain": [
       "286.10992431640625"
      ]
     },
     "execution_count": 95,
     "metadata": {},
     "output_type": "execute_result"
    }
   ],
   "source": [
    "start = time.time()\n",
    "ne.evaluate(\"oneDim**2+ 2*oneDim\")\n",
    "end = time.time()\n",
    "(end - start)*1e3"
   ]
  },
  {
   "cell_type": "code",
   "execution_count": null,
   "id": "55f66ca0-bcb1-4c6d-9e68-39f4ef67ec6b",
   "metadata": {},
   "outputs": [],
   "source": [
    "np.testing.assert_array_equal(np.exp(twoDim),ne.evaluate(\"exp(twoDim)\"))\n",
    "%timeit -n 1 np.exp(twoDim)\n"
   ]
  },
  {
   "cell_type": "code",
   "execution_count": 68,
   "id": "deb5d5db-e618-49dc-b21c-1c901ffff5d2",
   "metadata": {},
   "outputs": [
    {
     "name": "stderr",
     "output_type": "stream",
     "text": [
      "/tmp/ipykernel_3117/1679548987.py:7: RuntimeWarning: invalid value encountered in sqrt\n",
      "  return data**2+ 2*data + np.sqrt(data)\n"
     ]
    },
    {
     "data": {
      "text/plain": [
       "[(100.0, 26.98993682861328, 40.06457328796387, 0.6736609082199199),\n",
       " (1000.0, 0.11420249938964844, 0.14591217041015625, 0.7826797385620915),\n",
       " (10000.0, 0.3437995910644531, 0.9322166442871094, 0.36879795396419435),\n",
       " (100000.0, 4.921913146972656, 1.1563301086425781, 4.256494845360825),\n",
       " (1000000.0, 14.221668243408203, 6.728649139404297, 2.1135993196796825),\n",
       " (10000000.0, 205.23548126220703, 74.75066184997559, 2.74560085734243)]"
      ]
     },
     "execution_count": 68,
     "metadata": {},
     "output_type": "execute_result"
    }
   ],
   "source": [
    "def getData(N,dims:int):\n",
    "    N = int(N)\n",
    "    data = np.random.standard_normal((N,dims))\n",
    "    return data\n",
    "\n",
    "def doFunc(data):\n",
    "    return data**2+ 2*data + np.sqrt(data)\n",
    "def doFuncNE(data):\n",
    "    return ne.evaluate(\"data**2+ 2*data + sqrt(data)\")\n",
    "\n",
    "def timedCall(data,app:str):\n",
    "    start = time.time()\n",
    "    if app == \"np\":\n",
    "        doFunc(data)\n",
    "    else:\n",
    "        doFuncNE(data)\n",
    "    end = time.time()\n",
    "    return (end - start)*1e3\n",
    "\n",
    "dims = 2\n",
    "outs = []\n",
    "for N in [1e2,1e3,1e4,1e5,1e6,1e7]:\n",
    "    data = getData(N=N,dims=dims)\n",
    "    numpy = timedCall(data=data,app=\"np\")\n",
    "    numexpr = timedCall(data=data,app=\"\")\n",
    "    outs.append((N,numpy,numexpr,numpy/numexpr))\n",
    "    \n",
    "outs"
   ]
  },
  {
   "cell_type": "code",
   "execution_count": 81,
   "id": "e50482aa-2eab-41fa-809e-e233403f4c20",
   "metadata": {},
   "outputs": [],
   "source": [
    "A00 = 1.0\n",
    "N = 1000\n",
    "T = np.random.standard_normal((N,N))\n",
    "P = np.ones_like(T)"
   ]
  },
  {
   "cell_type": "code",
   "execution_count": 82,
   "id": "6e7ba640-59ed-4a6c-a8c2-53e4b282cf4a",
   "metadata": {},
   "outputs": [],
   "source": [
    "def npfunc(T,P):\n",
    "    A_t_p = ((A00 + (A00*T) + (A00*(T**2)) + (A00*(T**3)) + (A00*(T**4))) +\n",
    "             (A00 + (A00*T) + (A00*(T**2)) + (A00*(T**3)) + (A00*(T**4)))*P + \n",
    "             (A00 + (A00*T) + (A00*(T**2)) + (A00*(T**3)))*(P**2) + \n",
    "             (A00 + (A00*T) + (A00*(T**2)))*(P**3))\n",
    "    return A_t_p\n",
    "def nefunc(T,P):\n",
    "    A_t_p = ne.evaluate(\"((A00 + (A00*T) + (A00*(T**2)) + (A00*(T**3)) + (A00*(T**4))) +(A00 + (A00*T) + (A00*(T**2)) + (A00*(T**3)) + (A00*(T**4)))*P + (A00 + (A00*T) + (A00*(T**2)) + (A00*(T**3)))*(P**2) + (A00 + (A00*T) + (A00*(T**2)))*(P**3))\")\n",
    "    return A_t_p\n",
    "np.testing.assert_array_almost_equal(npfunc(T,P),nefunc(T,P))"
   ]
  },
  {
   "cell_type": "code",
   "execution_count": 83,
   "id": "124f7402-a155-424e-bffd-a793dbfcac2c",
   "metadata": {},
   "outputs": [
    {
     "name": "stdout",
     "output_type": "stream",
     "text": [
      "413 ms ± 3.07 ms per loop (mean ± std. dev. of 7 runs, 1 loop each)\n"
     ]
    }
   ],
   "source": [
    "%timeit npfunc(T,P)"
   ]
  },
  {
   "cell_type": "code",
   "execution_count": 84,
   "id": "dc50bed6-bfeb-4d7d-8c83-3225be7cd850",
   "metadata": {},
   "outputs": [
    {
     "name": "stdout",
     "output_type": "stream",
     "text": [
      "4.07 ms ± 173 µs per loop (mean ± std. dev. of 7 runs, 100 loops each)\n"
     ]
    }
   ],
   "source": [
    "%timeit nefunc(T,P)"
   ]
  },
  {
   "cell_type": "code",
   "execution_count": null,
   "id": "91ee1183-7f21-4050-9d4e-0c8d49de47df",
   "metadata": {},
   "outputs": [],
   "source": []
  }
 ],
 "metadata": {
  "kernelspec": {
   "display_name": "Python 3 (ipykernel)",
   "language": "python",
   "name": "python3"
  },
  "language_info": {
   "codemirror_mode": {
    "name": "ipython",
    "version": 3
   },
   "file_extension": ".py",
   "mimetype": "text/x-python",
   "name": "python",
   "nbconvert_exporter": "python",
   "pygments_lexer": "ipython3",
   "version": "3.9.10"
  }
 },
 "nbformat": 4,
 "nbformat_minor": 5
}
