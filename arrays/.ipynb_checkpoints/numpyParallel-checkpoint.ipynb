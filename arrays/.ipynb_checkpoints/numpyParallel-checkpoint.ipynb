{
 "cells": [
  {
   "cell_type": "markdown",
   "id": "17ebf29e-fe09-438c-b611-935ce387fe52",
   "metadata": {},
   "source": [
    "# Parallel loops through numpy arrays with Dask and Joblib\n",
    "We look at speeding up loops through numpy arrays. In this example we have to call a third-party library in each iteration and this third-party library will only accept a subset of our total array. As we are calling a third-party library we can't apply tricks like JIT compilation.\n",
    "\n",
    "The scenario here is that we have a 3-dimensional array with dimensions (x,y,time). We will imagine that this is a time series of 2-dimensional maps of ocean salinity. Our third-party library is the seawater library. This seawater library only accepts 2-dimensional inputs so we need to loop through the time dimension and call this library on each iteration. \n",
    "\n",
    "# Libraries\n",
    "In this example we will use the [Joblib](https://joblib.readthedocs.io/en/latest/) and [dask](https://docs.dask.org/en/stable/) libraries.  In the case of Dask we are using the dask delayed module for parallelising the loop."
   ]
  },
  {
   "cell_type": "code",
   "execution_count": 10,
   "id": "888b387e-39d7-4132-86b5-d8a53a89580e",
   "metadata": {},
   "outputs": [
    {
     "name": "stdout",
     "output_type": "stream",
     "text": [
      "Requirement already satisfied: numpy in /usr/local/lib/python3.9/site-packages (1.22.2)\n",
      "\u001b[33mWARNING: Running pip as the 'root' user can result in broken permissions and conflicting behaviour with the system package manager. It is recommended to use a virtual environment instead: https://pip.pypa.io/warnings/venv\u001b[0m\n",
      "\u001b[33mWARNING: You are using pip version 21.2.4; however, version 22.0.3 is available.\n",
      "You should consider upgrading via the '/usr/local/bin/python -m pip install --upgrade pip' command.\u001b[0m\n",
      "Requirement already satisfied: gsw in /usr/local/lib/python3.9/site-packages (3.4.0)\n",
      "Requirement already satisfied: numpy in /usr/local/lib/python3.9/site-packages (from gsw) (1.22.2)\n",
      "\u001b[33mWARNING: Running pip as the 'root' user can result in broken permissions and conflicting behaviour with the system package manager. It is recommended to use a virtual environment instead: https://pip.pypa.io/warnings/venv\u001b[0m\n",
      "\u001b[33mWARNING: You are using pip version 21.2.4; however, version 22.0.3 is available.\n",
      "You should consider upgrading via the '/usr/local/bin/python -m pip install --upgrade pip' command.\u001b[0m\n"
     ]
    }
   ],
   "source": [
    "!pip install numpy --upgrade\n",
    "!pip install gsw --upgrade"
   ]
  },
  {
   "cell_type": "code",
   "execution_count": 2,
   "id": "fc4ae17f-fa1a-4670-9a03-71183b9579e6",
   "metadata": {},
   "outputs": [],
   "source": [
    "import numpy as np\n",
    "from joblib import Parallel,delayed\n",
    "import dask\n",
    "\n",
    "# import gsw\n"
   ]
  },
  {
   "cell_type": "markdown",
   "id": "9a956b9c-6a82-48d3-8b65-0204f7305d9f",
   "metadata": {},
   "source": [
    "# Generate data\n",
    "We generate the inputs we need for the seawater library. We add arguments to allow us to specify the size of the array."
   ]
  },
  {
   "cell_type": "code",
   "execution_count": 3,
   "id": "a997fbf8-d1f3-42e6-a3d8-ad51a1da6805",
   "metadata": {},
   "outputs": [],
   "source": [
    "def generateData(xyLength:int,timesteps:int):\n",
    "    SPTimeseries = 35 + np.random.standard_normal(size=(xyLength,xyLength,timesteps))\n",
    "    assert SPTimeseries.shape == (xyLength,xyLength,timesteps)\n",
    "    p = 0\n",
    "    lon = np.tile(np.linspace(0,100,xyLength)[:,np.newaxis],xyLength)\n",
    "    assert lon.shape == (xyLength,xyLength)\n",
    "    lat = np.tile(np.linspace(-30,30,xyLength)[:,np.newaxis],xyLength)\n",
    "    assert lat.shape == (xyLength,xyLength)\n",
    "    return SPTimeseries,p,lon,lat\n",
    "\n",
    "SPTimeseries,p,lon,lat = generateData(xyLength=3,timesteps=3)    "
   ]
  },
  {
   "cell_type": "markdown",
   "id": "175b9265-0b8b-45e2-91ae-e121272c9b9d",
   "metadata": {},
   "source": [
    "We define the function that we are going to call in each iteration `getAbsoluteSalinity`"
   ]
  },
  {
   "cell_type": "code",
   "execution_count": 4,
   "id": "7576fb64-c8d4-4e7b-86b7-3eab94713360",
   "metadata": {},
   "outputs": [],
   "source": [
    "def getAbsoluteSalinity(SPSnapshot:np.ndarray,p:int,lon:np.ndarray,lat:np.ndarray):\n",
    "    return SPSnapshot"
   ]
  },
  {
   "cell_type": "markdown",
   "id": "225718b0-aef7-4f09-81d6-41a47a217e98",
   "metadata": {},
   "source": [
    "First we create a baseline non-parallelised function to do sequential processing"
   ]
  },
  {
   "cell_type": "code",
   "execution_count": 5,
   "id": "1b0004a8-3687-4389-bc62-ca056d9afa72",
   "metadata": {},
   "outputs": [],
   "source": [
    "def sequentialProcessing(SPTimeseries:np.ndarray,p:int,lon:np.ndarray,lat:np.ndarray,):\n",
    "    return np.stack(\n",
    "        [getAbsoluteSalinity(SPTimeseries[:,:,timestep], p, lon, lat) for timestep in range(SPTimeseries.shape[2])],\n",
    "        axis=2)\n",
    "\n",
    "outputSeq = sequentialProcessing(SPTimeseries=SPTimeseries,p=p,lon=lon,lat=lat)\n",
    "assert outputSeq.shape == SPTimeseries.shape"
   ]
  },
  {
   "cell_type": "markdown",
   "id": "f8df9d06-cf08-4d1f-aa88-f902cf003ac3",
   "metadata": {},
   "source": [
    "Now we create a parallel processing function using Joblib and test to make sure the outputs are the same as for the sequential processing"
   ]
  },
  {
   "cell_type": "code",
   "execution_count": 6,
   "id": "38abe00c-a121-4ac8-b29b-3fe3131a12e3",
   "metadata": {},
   "outputs": [],
   "source": [
    "def joblibProcessing(SPTimeseries:np.ndarray,p:int,lon:np.ndarray,lat:np.ndarray,backend = \"threading\",n_jobs:int=2):\n",
    "    return np.stack(\n",
    "        Parallel(n_jobs=n_jobs, backend=backend)(delayed(getAbsoluteSalinity)(\n",
    "            SPTimeseries[:,:,timestep], p, lon, lat) for timestep in range(SPTimeseries.shape[2])),\n",
    "    axis=2)\n",
    "\n",
    "outputParallel = joblibProcessing(SPTimeseries=SPTimeseries,p=p,lon=lon,lat=lat,n_jobs=1)\n",
    "np.testing.assert_array_equal(outputSeq,outputParallel)"
   ]
  },
  {
   "cell_type": "markdown",
   "id": "0d3642f7-cb77-4d9a-a63e-a237afe0e8be",
   "metadata": {},
   "source": [
    "Finally we create a function for processing using dask delayed. We test each time to make sure that the outputs are the same in each case."
   ]
  },
  {
   "cell_type": "code",
   "execution_count": null,
   "id": "5c0ebe09-bba3-411f-ba75-cbb7c1bfe928",
   "metadata": {},
   "outputs": [],
   "source": [
    "def daskDelayedProcessing(SPTimeseries:np.ndarray,p:int,lon:np.ndarray,lat:np.ndarray):\n",
    "    outputs = []\n",
    "    for timestep in range(SPTimeseries.shape[2]):\n",
    "        y = dask.delayed(getAbsoluteSalinity)(SPTimeseries[:,:,timestep], p, lon, lat)\n",
    "        outputs.append(y)\n",
    "    return np.stack(dask.compute(*outputs),axis=2)\n",
    "outputDask = daskDelayedProcessing(SPTimeseries=SPTimeseries,p=p,lon=lon,lat=lat)\n",
    "assert outputDask.shape == SPTimeseries.shape\n",
    "np.testing.assert_array_equal(outputParallel,outputDask)"
   ]
  },
  {
   "cell_type": "code",
   "execution_count": null,
   "id": "57ff0f93-2372-46a1-b432-d32893420178",
   "metadata": {},
   "outputs": [],
   "source": [
    "xyLength = 1000\n",
    "timesteps = 100\n",
    "SPTimeseries,p,lon,lat = generateData(xyLength=xyLength,timesteps=timesteps)    "
   ]
  },
  {
   "cell_type": "code",
   "execution_count": null,
   "id": "536942f2-421c-4a95-a2be-55645c7f89a3",
   "metadata": {},
   "outputs": [],
   "source": [
    "%timeit -n 1 -r 1 sequentialProcessing(SPTimeseries=SPTimeseries,p=p,lon=lon,lat=lat)"
   ]
  },
  {
   "cell_type": "code",
   "execution_count": null,
   "id": "bd2f014e-46f7-4291-a4ae-7795ea267a50",
   "metadata": {},
   "outputs": [],
   "source": [
    "%timeit -n 1 -r 1 parallelProcessing(SPTimeseries=SPTimeseries,p=p,lon=lon,lat=lat,n_jobs=2)"
   ]
  },
  {
   "cell_type": "code",
   "execution_count": null,
   "id": "a56318fc-e5bd-4d2e-9c1c-93b6fd3da92f",
   "metadata": {},
   "outputs": [],
   "source": [
    "%timeit -n 1 -r 1 parallelProcessing(SPTimeseries=SPTimeseries,p=p,lon=lon,lat=lat,n_jobs=4)"
   ]
  },
  {
   "cell_type": "code",
   "execution_count": null,
   "id": "0311d80b-2789-4942-aa18-5753c53f3245",
   "metadata": {},
   "outputs": [],
   "source": [
    "%timeit -n 1 -r 1 parallelProcessing(SPTimeseries=SPTimeseries,p=p,lon=lon,lat=lat,n_jobs=8)"
   ]
  },
  {
   "cell_type": "code",
   "execution_count": null,
   "id": "00b1262b-7805-492a-97e9-522dbaaa45f8",
   "metadata": {},
   "outputs": [],
   "source": [
    "SPTimeseries32 = SPTimeseries.astype(np.float32)\n",
    "%timeit parallelProcessing(SPTimeseries=SPTimeseries32,p=p,lon=lon,lat=lat,n_jobs=8)"
   ]
  },
  {
   "cell_type": "code",
   "execution_count": null,
   "id": "e72502a7-a691-48d8-afbc-d4e5ea1efbf1",
   "metadata": {},
   "outputs": [],
   "source": [
    "%timeit daskDelayedProcessing(SPTimeseries=SPTimeseries,p=p,lon=lon,lat=lat)"
   ]
  },
  {
   "cell_type": "code",
   "execution_count": null,
   "id": "ce426364-4c8b-4871-8862-c44b888ee50e",
   "metadata": {},
   "outputs": [],
   "source": []
  }
 ],
 "metadata": {
  "kernelspec": {
   "display_name": "Python 3 (ipykernel)",
   "language": "python",
   "name": "python3"
  },
  "language_info": {
   "codemirror_mode": {
    "name": "ipython",
    "version": 3
   },
   "file_extension": ".py",
   "mimetype": "text/x-python",
   "name": "python",
   "nbconvert_exporter": "python",
   "pygments_lexer": "ipython3",
   "version": "3.9.10"
  }
 },
 "nbformat": 4,
 "nbformat_minor": 5
}
