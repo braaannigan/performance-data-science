{
 "cells": [
  {
   "cell_type": "code",
   "execution_count": 1,
   "id": "8c4ac59e-2d82-4655-8415-da73156d1f81",
   "metadata": {},
   "outputs": [],
   "source": [
    "from pathlib import Path\n",
    "import concurrent.futures\n",
    "\n",
    "import numpy as np\n",
    "import pandas as pd\n",
    "from joblib import Parallel,delayed\n",
    "import dask\n",
    "\n",
    "%load_ext memory_profiler"
   ]
  },
  {
   "cell_type": "code",
   "execution_count": 2,
   "id": "e1222d24-cbe0-49bc-84ea-7c622665f6c5",
   "metadata": {},
   "outputs": [
    {
     "data": {
      "text/plain": [
       "True"
      ]
     },
     "execution_count": 2,
     "metadata": {},
     "output_type": "execute_result"
    }
   ],
   "source": [
    "dataPath = Path('../data')\n",
    "rawData = dataPath / 'raw'\n",
    "rawData.exists()"
   ]
  },
  {
   "cell_type": "code",
   "execution_count": 13,
   "id": "ac18689b-0236-4fb4-9e39-c0158ab83510",
   "metadata": {},
   "outputs": [],
   "source": [
    "N = 25000\n",
    "df = pd.DataFrame(np.random.standard_normal((N,50)))\n",
    "filePath = rawData / \"sampleExcel.xlsx\"\n",
    "df.to_excel(filePath,engine=\"openpyxl\")"
   ]
  },
  {
   "cell_type": "code",
   "execution_count": 14,
   "id": "e9bef171-b517-46d7-82f8-a71f99bb1653",
   "metadata": {},
   "outputs": [],
   "source": [
    "repeatN = 2"
   ]
  },
  {
   "cell_type": "code",
   "execution_count": 15,
   "id": "f1708f7f-0c52-4f9a-9dbe-162f68e5dea8",
   "metadata": {},
   "outputs": [],
   "source": [
    "def coreFunc():\n",
    "    df = pd.read_excel(filePath,engine=\"openpyxl\")\n",
    "    for i in range(5):\n",
    "        df = df ** 2\n",
    "    return df"
   ]
  },
  {
   "cell_type": "code",
   "execution_count": 16,
   "id": "ea9a288f-c97c-4523-8cef-309cb44879d3",
   "metadata": {},
   "outputs": [],
   "source": [
    "def serialPandas(repeatN):\n",
    "    return [coreFunc() for _ in range(repeatN)]\n",
    "serial = serialPandas(repeatN = repeatN)\n",
    "assert isinstance(serial,list)\n",
    "assert all([isinstance(el,pd.DataFrame) for el in serial])"
   ]
  },
  {
   "cell_type": "code",
   "execution_count": 17,
   "id": "53f390a9-1986-47f7-8207-43760f3ad21f",
   "metadata": {},
   "outputs": [
    {
     "name": "stdout",
     "output_type": "stream",
     "text": [
      "37.9 s ± 0 ns per loop (mean ± std. dev. of 1 run, 1 loop each)\n"
     ]
    }
   ],
   "source": [
    "%timeit -n 1 -r 1 serialPandas(repeatN=repeatN)"
   ]
  },
  {
   "cell_type": "code",
   "execution_count": null,
   "id": "03ef4eac-3524-4fa0-8c40-a6ceee36f868",
   "metadata": {},
   "outputs": [
    {
     "name": "stdout",
     "output_type": "stream",
     "text": [
      "loky\n"
     ]
    }
   ],
   "source": [
    "n_jobs = 2\n",
    "def jlPandas(repeatN:int,n_jobs:int,backend:str):\n",
    "    return Parallel(n_jobs=n_jobs, backend=backend)(delayed(coreFunc) for _ in range(repeatN))\n",
    "for backend in [\"loky\",\"threading\",\"multiprocessing\"]:\n",
    "    print(backend)\n",
    "    loky = jlPandas(repeatN = repeatN,backend=backend,n_jobs=2)\n",
    "    assert isinstance(loky,list)\n",
    "    assert all([isinstance(el,pd.DataFrame) for el in loky])\n",
    "    assert len(loky) == len(serial)\n",
    "    assert all([pd.testing.assert_frame_equal(lk,sr)==None for lk,sr in zip(loky,serial)]),f\"{[pd.testing.assert_frame_equal(lk,sr) for lk,sr in zip(loky,serial)]}\"\n"
   ]
  },
  {
   "cell_type": "code",
   "execution_count": 18,
   "id": "eed949fb-121c-4317-888d-ad6527cc7b2e",
   "metadata": {},
   "outputs": [],
   "source": [
    "def example():\n",
    "    # This is a static table with basic information like distributions\n",
    "    return coreFunc()\n",
    "\n",
    "def concurrentPandas(repeatN):\n",
    "    results = []\n",
    "    with concurrent.futures.ProcessPoolExecutor() as pool:\n",
    "        futr_results = [pool.submit(example) for _ in range(repeatN)]\n",
    "        done_results = concurrent.futures.as_completed(futr_results)\n",
    "        for _ in futr_results: \n",
    "            results.append(next(done_results).result())\n",
    "\n",
    "    return results\n",
    "repeatN = 2\n",
    "conc = concurrentPandas(repeatN=repeatN)\n",
    "assert isinstance(conc,list)\n",
    "assert all([isinstance(el,pd.DataFrame) for el in conc])\n",
    "assert len(conc) == len(serial)\n",
    "assert all([pd.testing.assert_frame_equal(lk,sr)==None for lk,sr in zip(conc,serial)]),f\"{[pd.testing.assert_frame_equal(lk,sr) for lk,sr in zip(conc,serial)]}\"\n"
   ]
  },
  {
   "cell_type": "code",
   "execution_count": 19,
   "id": "8f9b1be5-2dc2-4437-b70b-ba2a1fd85715",
   "metadata": {},
   "outputs": [
    {
     "name": "stdout",
     "output_type": "stream",
     "text": [
      "serial\n",
      "1min 36s ± 0 ns per loop (mean ± std. dev. of 1 run, 1 loop each)\n",
      "concurrent\n",
      "26.4 s ± 0 ns per loop (mean ± std. dev. of 1 run, 1 loop each)\n",
      "loky\n"
     ]
    },
    {
     "ename": "NameError",
     "evalue": "name 'jlPandas' is not defined",
     "output_type": "error",
     "traceback": [
      "\u001b[0;31m---------------------------------------------------------------------------\u001b[0m",
      "\u001b[0;31mNameError\u001b[0m                                 Traceback (most recent call last)",
      "Input \u001b[0;32mIn [19]\u001b[0m, in \u001b[0;36m<module>\u001b[0;34m\u001b[0m\n\u001b[1;32m      6\u001b[0m get_ipython()\u001b[38;5;241m.\u001b[39mrun_line_magic(\u001b[38;5;124m'\u001b[39m\u001b[38;5;124mtimeit\u001b[39m\u001b[38;5;124m'\u001b[39m, \u001b[38;5;124m'\u001b[39m\u001b[38;5;124m-n 1 -r 1 concurrentPandas(repeatN=repeatN)\u001b[39m\u001b[38;5;124m'\u001b[39m)\n\u001b[1;32m      8\u001b[0m \u001b[38;5;28mprint\u001b[39m(\u001b[38;5;124m\"\u001b[39m\u001b[38;5;124mloky\u001b[39m\u001b[38;5;124m\"\u001b[39m)\n\u001b[0;32m----> 9\u001b[0m \u001b[43mget_ipython\u001b[49m\u001b[43m(\u001b[49m\u001b[43m)\u001b[49m\u001b[38;5;241;43m.\u001b[39;49m\u001b[43mrun_line_magic\u001b[49m\u001b[43m(\u001b[49m\u001b[38;5;124;43m'\u001b[39;49m\u001b[38;5;124;43mtimeit\u001b[39;49m\u001b[38;5;124;43m'\u001b[39;49m\u001b[43m,\u001b[49m\u001b[43m \u001b[49m\u001b[38;5;124;43m'\u001b[39;49m\u001b[38;5;124;43m-n 1  -r 1 jlPandas(repeatN = repeatN,backend=\u001b[39;49m\u001b[38;5;124;43m\"\u001b[39;49m\u001b[38;5;124;43mloky\u001b[39;49m\u001b[38;5;124;43m\"\u001b[39;49m\u001b[38;5;124;43m,n_jobs=n_jobs)\u001b[39;49m\u001b[38;5;124;43m'\u001b[39;49m\u001b[43m)\u001b[49m\n\u001b[1;32m     10\u001b[0m \u001b[38;5;28mprint\u001b[39m(\u001b[38;5;124m\"\u001b[39m\u001b[38;5;124mthreading\u001b[39m\u001b[38;5;124m\"\u001b[39m)\n\u001b[1;32m     11\u001b[0m get_ipython()\u001b[38;5;241m.\u001b[39mrun_line_magic(\u001b[38;5;124m'\u001b[39m\u001b[38;5;124mtimeit\u001b[39m\u001b[38;5;124m'\u001b[39m, \u001b[38;5;124m'\u001b[39m\u001b[38;5;124m-n 1  -r 1 jlPandas(repeatN = repeatN,backend=\u001b[39m\u001b[38;5;124m\"\u001b[39m\u001b[38;5;124mthreading\u001b[39m\u001b[38;5;124m\"\u001b[39m\u001b[38;5;124m,n_jobs=n_jobs)\u001b[39m\u001b[38;5;124m'\u001b[39m)\n",
      "File \u001b[0;32m/usr/local/lib/python3.9/site-packages/IPython/core/interactiveshell.py:2204\u001b[0m, in \u001b[0;36mInteractiveShell.run_line_magic\u001b[0;34m(self, magic_name, line, _stack_depth)\u001b[0m\n\u001b[1;32m   2202\u001b[0m     kwargs[\u001b[38;5;124m'\u001b[39m\u001b[38;5;124mlocal_ns\u001b[39m\u001b[38;5;124m'\u001b[39m] \u001b[38;5;241m=\u001b[39m \u001b[38;5;28mself\u001b[39m\u001b[38;5;241m.\u001b[39mget_local_scope(stack_depth)\n\u001b[1;32m   2203\u001b[0m \u001b[38;5;28;01mwith\u001b[39;00m \u001b[38;5;28mself\u001b[39m\u001b[38;5;241m.\u001b[39mbuiltin_trap:\n\u001b[0;32m-> 2204\u001b[0m     result \u001b[38;5;241m=\u001b[39m \u001b[43mfn\u001b[49m\u001b[43m(\u001b[49m\u001b[38;5;241;43m*\u001b[39;49m\u001b[43margs\u001b[49m\u001b[43m,\u001b[49m\u001b[43m \u001b[49m\u001b[38;5;241;43m*\u001b[39;49m\u001b[38;5;241;43m*\u001b[39;49m\u001b[43mkwargs\u001b[49m\u001b[43m)\u001b[49m\n\u001b[1;32m   2205\u001b[0m \u001b[38;5;28;01mreturn\u001b[39;00m result\n",
      "File \u001b[0;32m/usr/local/lib/python3.9/site-packages/IPython/core/magics/execution.py:1166\u001b[0m, in \u001b[0;36mExecutionMagics.timeit\u001b[0;34m(self, line, cell, local_ns)\u001b[0m\n\u001b[1;32m   1163\u001b[0m         \u001b[38;5;28;01mif\u001b[39;00m time_number \u001b[38;5;241m>\u001b[39m\u001b[38;5;241m=\u001b[39m \u001b[38;5;241m0.2\u001b[39m:\n\u001b[1;32m   1164\u001b[0m             \u001b[38;5;28;01mbreak\u001b[39;00m\n\u001b[0;32m-> 1166\u001b[0m all_runs \u001b[38;5;241m=\u001b[39m \u001b[43mtimer\u001b[49m\u001b[38;5;241;43m.\u001b[39;49m\u001b[43mrepeat\u001b[49m\u001b[43m(\u001b[49m\u001b[43mrepeat\u001b[49m\u001b[43m,\u001b[49m\u001b[43m \u001b[49m\u001b[43mnumber\u001b[49m\u001b[43m)\u001b[49m\n\u001b[1;32m   1167\u001b[0m best \u001b[38;5;241m=\u001b[39m \u001b[38;5;28mmin\u001b[39m(all_runs) \u001b[38;5;241m/\u001b[39m number\n\u001b[1;32m   1168\u001b[0m worst \u001b[38;5;241m=\u001b[39m \u001b[38;5;28mmax\u001b[39m(all_runs) \u001b[38;5;241m/\u001b[39m number\n",
      "File \u001b[0;32m/usr/local/lib/python3.9/timeit.py:205\u001b[0m, in \u001b[0;36mTimer.repeat\u001b[0;34m(self, repeat, number)\u001b[0m\n\u001b[1;32m    203\u001b[0m r \u001b[38;5;241m=\u001b[39m []\n\u001b[1;32m    204\u001b[0m \u001b[38;5;28;01mfor\u001b[39;00m i \u001b[38;5;129;01min\u001b[39;00m \u001b[38;5;28mrange\u001b[39m(repeat):\n\u001b[0;32m--> 205\u001b[0m     t \u001b[38;5;241m=\u001b[39m \u001b[38;5;28;43mself\u001b[39;49m\u001b[38;5;241;43m.\u001b[39;49m\u001b[43mtimeit\u001b[49m\u001b[43m(\u001b[49m\u001b[43mnumber\u001b[49m\u001b[43m)\u001b[49m\n\u001b[1;32m    206\u001b[0m     r\u001b[38;5;241m.\u001b[39mappend(t)\n\u001b[1;32m    207\u001b[0m \u001b[38;5;28;01mreturn\u001b[39;00m r\n",
      "File \u001b[0;32m/usr/local/lib/python3.9/site-packages/IPython/core/magics/execution.py:156\u001b[0m, in \u001b[0;36mTimer.timeit\u001b[0;34m(self, number)\u001b[0m\n\u001b[1;32m    154\u001b[0m gc\u001b[38;5;241m.\u001b[39mdisable()\n\u001b[1;32m    155\u001b[0m \u001b[38;5;28;01mtry\u001b[39;00m:\n\u001b[0;32m--> 156\u001b[0m     timing \u001b[38;5;241m=\u001b[39m \u001b[38;5;28;43mself\u001b[39;49m\u001b[38;5;241;43m.\u001b[39;49m\u001b[43minner\u001b[49m\u001b[43m(\u001b[49m\u001b[43mit\u001b[49m\u001b[43m,\u001b[49m\u001b[43m \u001b[49m\u001b[38;5;28;43mself\u001b[39;49m\u001b[38;5;241;43m.\u001b[39;49m\u001b[43mtimer\u001b[49m\u001b[43m)\u001b[49m\n\u001b[1;32m    157\u001b[0m \u001b[38;5;28;01mfinally\u001b[39;00m:\n\u001b[1;32m    158\u001b[0m     \u001b[38;5;28;01mif\u001b[39;00m gcold:\n",
      "File \u001b[0;32m<magic-timeit>:1\u001b[0m, in \u001b[0;36minner\u001b[0;34m(_it, _timer)\u001b[0m\n",
      "\u001b[0;31mNameError\u001b[0m: name 'jlPandas' is not defined"
     ]
    }
   ],
   "source": [
    "repeatN = 5\n",
    "n_jobs = 4\n",
    "print(\"serial\")\n",
    "%timeit -n 1 -r 1 serialPandas(repeatN=repeatN)\n",
    "print(\"concurrent\")\n",
    "%timeit -n 1 -r 1 concurrentPandas(repeatN=repeatN)\n",
    "\n",
    "print(\"loky\")\n",
    "%timeit -n 1  -r 1 jlPandas(repeatN = repeatN,backend=\"loky\",n_jobs=n_jobs)\n",
    "print(\"threading\")\n",
    "%timeit -n 1  -r 1 jlPandas(repeatN = repeatN,backend=\"threading\",n_jobs=n_jobs)\n",
    "\n",
    "print(\"multiprocessing\")\n",
    "%timeit -n 1  -r 1 jlPandas(repeatN = repeatN,backend=\"multiprocessing\",n_jobs=n_jobs)\n"
   ]
  },
  {
   "cell_type": "code",
   "execution_count": null,
   "id": "34ab1dd9-cdcc-47ee-bb3a-1bc50e6aa17f",
   "metadata": {},
   "outputs": [],
   "source": []
  }
 ],
 "metadata": {
  "kernelspec": {
   "display_name": "Python 3 (ipykernel)",
   "language": "python",
   "name": "python3"
  },
  "language_info": {
   "codemirror_mode": {
    "name": "ipython",
    "version": 3
   },
   "file_extension": ".py",
   "mimetype": "text/x-python",
   "name": "python",
   "nbconvert_exporter": "python",
   "pygments_lexer": "ipython3",
   "version": "3.9.10"
  }
 },
 "nbformat": 4,
 "nbformat_minor": 5
}
