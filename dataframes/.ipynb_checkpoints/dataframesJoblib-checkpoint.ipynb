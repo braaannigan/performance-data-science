{
 "cells": [
  {
   "cell_type": "code",
   "execution_count": 1,
   "id": "8c4ac59e-2d82-4655-8415-da73156d1f81",
   "metadata": {},
   "outputs": [],
   "source": [
    "from pathlib import Path\n",
    "import concurrent.futures\n",
    "\n",
    "import numpy as np\n",
    "import pandas as pd\n",
    "from joblib import Parallel,delayed\n",
    "import dask\n",
    "\n",
    "%load_ext memory_profiler"
   ]
  },
  {
   "cell_type": "code",
   "execution_count": 2,
   "id": "e1222d24-cbe0-49bc-84ea-7c622665f6c5",
   "metadata": {},
   "outputs": [
    {
     "data": {
      "text/plain": [
       "True"
      ]
     },
     "execution_count": 2,
     "metadata": {},
     "output_type": "execute_result"
    }
   ],
   "source": [
    "dataPath = Path('../data')\n",
    "rawData = dataPath / 'raw'\n",
    "rawData.exists()"
   ]
  },
  {
   "cell_type": "code",
   "execution_count": null,
   "id": "ac18689b-0236-4fb4-9e39-c0158ab83510",
   "metadata": {},
   "outputs": [],
   "source": [
    "N = 25000\n",
    "df = pd.DataFrame(np.random.standard_normal((N,50)))\n",
    "filePath = rawData / \"sampleExcel.xlsx\"\n",
    "df.to_excel(filePath,engine=\"openpyxl\")"
   ]
  },
  {
   "cell_type": "code",
   "execution_count": null,
   "id": "e9bef171-b517-46d7-82f8-a71f99bb1653",
   "metadata": {},
   "outputs": [],
   "source": [
    "repeatN = 2"
   ]
  },
  {
   "cell_type": "code",
   "execution_count": null,
   "id": "f1708f7f-0c52-4f9a-9dbe-162f68e5dea8",
   "metadata": {},
   "outputs": [],
   "source": [
    "def coreFunc():\n",
    "    df = pd.read_excel(filePath,engine=\"openpyxl\")\n",
    "    for i in range(5):\n",
    "        df = df ** 2\n",
    "    return df"
   ]
  },
  {
   "cell_type": "code",
   "execution_count": null,
   "id": "ea9a288f-c97c-4523-8cef-309cb44879d3",
   "metadata": {},
   "outputs": [],
   "source": [
    "def serialPandas(repeatN):\n",
    "    return [coreFunc() for _ in range(repeatN)]\n",
    "serial = serialPandas(repeatN = repeatN)\n",
    "assert isinstance(serial,list)\n",
    "assert all([isinstance(el,pd.DataFrame) for el in serial])"
   ]
  },
  {
   "cell_type": "code",
   "execution_count": null,
   "id": "53f390a9-1986-47f7-8207-43760f3ad21f",
   "metadata": {},
   "outputs": [],
   "source": [
    "%timeit -n 1 -r 1 serialPandas(repeatN=repeatN)"
   ]
  },
  {
   "cell_type": "code",
   "execution_count": null,
   "id": "03ef4eac-3524-4fa0-8c40-a6ceee36f868",
   "metadata": {},
   "outputs": [
    {
     "name": "stdout",
     "output_type": "stream",
     "text": [
      "loky\n"
     ]
    }
   ],
   "source": [
    "n_jobs = 2\n",
    "def jlPandas(repeatN:int,n_jobs:int,backend:str):\n",
    "    return Parallel(n_jobs=n_jobs, backend=backend)(delayed(coreFunc) for _ in range(repeatN))\n",
    "for backend in [\"loky\",\"threading\",\"multiprocessing\"]:\n",
    "    print(backend)\n",
    "    loky = jlPandas(repeatN = repeatN,backend=backend,n_jobs=2)\n",
    "    assert isinstance(loky,list)\n",
    "    assert all([isinstance(el,pd.DataFrame) for el in loky])\n",
    "    assert len(loky) == len(serial)\n",
    "    assert all([pd.testing.assert_frame_equal(lk,sr)==None for lk,sr in zip(loky,serial)]),f\"{[pd.testing.assert_frame_equal(lk,sr) for lk,sr in zip(loky,serial)]}\"\n"
   ]
  },
  {
   "cell_type": "code",
   "execution_count": null,
   "id": "eed949fb-121c-4317-888d-ad6527cc7b2e",
   "metadata": {},
   "outputs": [],
   "source": [
    "def example():\n",
    "    # This is a static table with basic information like distributions\n",
    "    return coreFunc()\n",
    "\n",
    "def concurrentPandas(repeatN):\n",
    "    results = []\n",
    "    with concurrent.futures.ProcessPoolExecutor() as pool:\n",
    "        futr_results = [pool.submit(example) for _ in range(repeatN)]\n",
    "        done_results = concurrent.futures.as_completed(futr_results)\n",
    "        for _ in futr_results: \n",
    "            results.append(next(done_results).result())\n",
    "\n",
    "    return results\n",
    "repeatN = 2\n",
    "conc = concurrentPandas(repeatN=repeatN)\n",
    "assert isinstance(conc,list)\n",
    "assert all([isinstance(el,pd.DataFrame) for el in conc])\n",
    "assert len(conc) == len(serial)\n",
    "assert all([pd.testing.assert_frame_equal(lk,sr)==None for lk,sr in zip(conc,serial)]),f\"{[pd.testing.assert_frame_equal(lk,sr) for lk,sr in zip(conc,serial)]}\"\n"
   ]
  },
  {
   "cell_type": "code",
   "execution_count": null,
   "id": "8f9b1be5-2dc2-4437-b70b-ba2a1fd85715",
   "metadata": {},
   "outputs": [],
   "source": [
    "repeatN = 5\n",
    "n_jobs = 4\n",
    "print(\"serial\")\n",
    "%timeit -n 1 -r 1 serialPandas(repeatN=repeatN)\n",
    "print(\"concurrent\")\n",
    "%timeit -n 1 -r 1 concurrentPandas(repeatN=repeatN)\n",
    "\n",
    "print(\"loky\")\n",
    "%timeit -n 1  -r 1 jlPandas(repeatN = repeatN,backend=\"loky\",n_jobs=n_jobs)\n",
    "print(\"threading\")\n",
    "%timeit -n 1  -r 1 jlPandas(repeatN = repeatN,backend=\"threading\",n_jobs=n_jobs)\n",
    "\n",
    "print(\"multiprocessing\")\n",
    "%timeit -n 1  -r 1 jlPandas(repeatN = repeatN,backend=\"multiprocessing\",n_jobs=n_jobs)\n"
   ]
  },
  {
   "cell_type": "code",
   "execution_count": null,
   "id": "34ab1dd9-cdcc-47ee-bb3a-1bc50e6aa17f",
   "metadata": {},
   "outputs": [],
   "source": []
  }
 ],
 "metadata": {
  "kernelspec": {
   "display_name": "Python 3 (ipykernel)",
   "language": "python",
   "name": "python3"
  },
  "language_info": {
   "codemirror_mode": {
    "name": "ipython",
    "version": 3
   },
   "file_extension": ".py",
   "mimetype": "text/x-python",
   "name": "python",
   "nbconvert_exporter": "python",
   "pygments_lexer": "ipython3",
   "version": "3.9.10"
  }
 },
 "nbformat": 4,
 "nbformat_minor": 5
}
